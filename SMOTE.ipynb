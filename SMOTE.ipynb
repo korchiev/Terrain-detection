{
 "cells": [
  {
   "cell_type": "code",
   "execution_count": 1,
   "metadata": {},
   "outputs": [
    {
     "name": "stderr",
     "output_type": "stream",
     "text": [
      "Using TensorFlow backend.\n",
      "C:\\Users\\nodir\\Anaconda3\\lib\\site-packages\\tensorflow\\python\\framework\\dtypes.py:516: FutureWarning: Passing (type, 1) or '1type' as a synonym of type is deprecated; in a future version of numpy, it will be understood as (type, (1,)) / '(1,)type'.\n",
      "  _np_qint8 = np.dtype([(\"qint8\", np.int8, 1)])\n",
      "C:\\Users\\nodir\\Anaconda3\\lib\\site-packages\\tensorflow\\python\\framework\\dtypes.py:517: FutureWarning: Passing (type, 1) or '1type' as a synonym of type is deprecated; in a future version of numpy, it will be understood as (type, (1,)) / '(1,)type'.\n",
      "  _np_quint8 = np.dtype([(\"quint8\", np.uint8, 1)])\n",
      "C:\\Users\\nodir\\Anaconda3\\lib\\site-packages\\tensorflow\\python\\framework\\dtypes.py:518: FutureWarning: Passing (type, 1) or '1type' as a synonym of type is deprecated; in a future version of numpy, it will be understood as (type, (1,)) / '(1,)type'.\n",
      "  _np_qint16 = np.dtype([(\"qint16\", np.int16, 1)])\n",
      "C:\\Users\\nodir\\Anaconda3\\lib\\site-packages\\tensorflow\\python\\framework\\dtypes.py:519: FutureWarning: Passing (type, 1) or '1type' as a synonym of type is deprecated; in a future version of numpy, it will be understood as (type, (1,)) / '(1,)type'.\n",
      "  _np_quint16 = np.dtype([(\"quint16\", np.uint16, 1)])\n",
      "C:\\Users\\nodir\\Anaconda3\\lib\\site-packages\\tensorflow\\python\\framework\\dtypes.py:520: FutureWarning: Passing (type, 1) or '1type' as a synonym of type is deprecated; in a future version of numpy, it will be understood as (type, (1,)) / '(1,)type'.\n",
      "  _np_qint32 = np.dtype([(\"qint32\", np.int32, 1)])\n",
      "C:\\Users\\nodir\\Anaconda3\\lib\\site-packages\\tensorflow\\python\\framework\\dtypes.py:525: FutureWarning: Passing (type, 1) or '1type' as a synonym of type is deprecated; in a future version of numpy, it will be understood as (type, (1,)) / '(1,)type'.\n",
      "  np_resource = np.dtype([(\"resource\", np.ubyte, 1)])\n"
     ]
    }
   ],
   "source": [
    "import numpy as np\n",
    "import pandas as pd\n",
    "import os\n",
    "import matplotlib.pyplot as plt\n",
    "from collections import Counter\n",
    "\n",
    "from imblearn.over_sampling import SMOTE\n",
    "from imblearn.under_sampling import RandomUnderSampler\n",
    "from matplotlib import pyplot\n",
    "from numpy import where\n",
    "from sklearn.preprocessing import LabelEncoder\n",
    "\n",
    "from sklearn.model_selection import train_test_split\n",
    "from sklearn import datasets\n",
    "from sklearn import svm\n",
    "\n",
    "from sklearn.metrics import confusion_matrix, accuracy_score, f1_score \n",
    "from sklearn.naive_bayes import GaussianNB\n",
    "from sklearn.ensemble import RandomForestClassifier"
   ]
  },
  {
   "cell_type": "markdown",
   "metadata": {},
   "source": [
    "# Remove \n",
    "subject_001_07__y.csv, subject_001_08__y.csv, subject_003_03__y.csv\n",
    "from the FinalData directory and run code below. Because they result in different errors. "
   ]
  },
  {
   "cell_type": "code",
   "execution_count": 2,
   "metadata": {},
   "outputs": [],
   "source": [
    "allfiles = os.listdir('FinalData/')"
   ]
  },
  {
   "cell_type": "code",
   "execution_count": 3,
   "metadata": {},
   "outputs": [
    {
     "data": {
      "text/plain": [
       "['subject_001_01__y.csv',\n",
       " 'subject_001_02__y.csv',\n",
       " 'subject_001_03__y.csv',\n",
       " 'subject_001_04__y.csv',\n",
       " 'subject_001_05__y.csv',\n",
       " 'subject_001_06__y.csv',\n",
       " 'subject_002_01__y.csv',\n",
       " 'subject_002_02__y.csv',\n",
       " 'subject_002_03__y.csv',\n",
       " 'subject_002_04__y.csv',\n",
       " 'subject_002_05__y.csv',\n",
       " 'subject_003_01__y.csv',\n",
       " 'subject_003_02__y.csv',\n",
       " 'subject_004_01__y.csv',\n",
       " 'subject_004_02__y.csv',\n",
       " 'subject_005_01__y.csv',\n",
       " 'subject_005_02__y.csv',\n",
       " 'subject_005_03__y.csv',\n",
       " 'subject_006_01__y.csv',\n",
       " 'subject_006_02__y.csv',\n",
       " 'subject_006_03__y.csv',\n",
       " 'subject_007_01__y.csv',\n",
       " 'subject_007_02__y.csv',\n",
       " 'subject_007_03__y.csv',\n",
       " 'subject_007_04__y.csv',\n",
       " 'subject_008_01__y.csv']"
      ]
     },
     "execution_count": 3,
     "metadata": {},
     "output_type": "execute_result"
    }
   ],
   "source": [
    "allfiles"
   ]
  },
  {
   "cell_type": "code",
   "execution_count": 4,
   "metadata": {},
   "outputs": [],
   "source": [
    "def balance_data(directory, files):\n",
    "    for file in files:\n",
    "        df = pd.read_csv(directory + file)\n",
    "        y=df['y']\n",
    "        X = df.iloc[:,:-1]\n",
    "        y = LabelEncoder().fit_transform(y)\n",
    "        #mean_val = int(np.median(np.array(list(counter.values()))))\n",
    "        #oversample = SMOTE({1:mean_val, 2:mean_val})\n",
    "        strategy = {1:3500, 2:3500, 3:3500}\n",
    "        oversample = SMOTE(sampling_strategy=strategy)        \n",
    "        X, y = oversample.fit_resample(X, y)\n",
    "        under = RandomUnderSampler(random_state = 101)\n",
    "        X, y = under.fit_resample(X, y)\n",
    "        df_balanced = pd.DataFrame(X, columns = ['m1', 'm2', 'm3', 'm4', 'm5', 'm6', 'm11', 'm12', 'm13', 'm14', 'm15',\n",
    "       'm16', 'm21', 'm22', 'm23', 'm24', 'm25', 'm26', 'm31', 'm32', 'm33',\n",
    "       'm34', 'm35', 'm36'])\n",
    "        df_balanced['y'] = y\n",
    "        df_balanced.to_csv('BalancedData/'+file, index=False)\n",
    "        print(file)"
   ]
  },
  {
   "cell_type": "code",
   "execution_count": 5,
   "metadata": {},
   "outputs": [
    {
     "name": "stdout",
     "output_type": "stream",
     "text": [
      "subject_001_01__y.csv\n",
      "subject_001_02__y.csv\n",
      "subject_001_03__y.csv\n",
      "subject_001_04__y.csv\n",
      "subject_001_05__y.csv\n",
      "subject_001_06__y.csv\n",
      "subject_002_01__y.csv\n",
      "subject_002_02__y.csv\n",
      "subject_002_03__y.csv\n",
      "subject_002_04__y.csv\n",
      "subject_002_05__y.csv\n",
      "subject_003_01__y.csv\n",
      "subject_003_02__y.csv\n",
      "subject_004_01__y.csv\n",
      "subject_004_02__y.csv\n",
      "subject_005_01__y.csv\n",
      "subject_005_02__y.csv\n",
      "subject_005_03__y.csv\n",
      "subject_006_01__y.csv\n",
      "subject_006_02__y.csv\n",
      "subject_006_03__y.csv\n",
      "subject_007_01__y.csv\n",
      "subject_007_02__y.csv\n",
      "subject_007_03__y.csv\n",
      "subject_007_04__y.csv\n",
      "subject_008_01__y.csv\n"
     ]
    }
   ],
   "source": [
    "balance_data('FinalData/', allfiles)"
   ]
  },
  {
   "cell_type": "code",
   "execution_count": 6,
   "metadata": {},
   "outputs": [],
   "source": [
    "imbalanced_files = os.listdir('FinalData/')"
   ]
  },
  {
   "cell_type": "code",
   "execution_count": 7,
   "metadata": {},
   "outputs": [],
   "source": [
    "balanced_files = os.listdir('BalancedData/')"
   ]
  },
  {
   "cell_type": "code",
   "execution_count": 8,
   "metadata": {},
   "outputs": [],
   "source": [
    "def balance_data(im_directory, bal_directory,  im_files, bal_files):\n",
    "    for i in range (0,len(im_files)):\n",
    "        im_df = pd.read_csv(im_directory + im_files[i])\n",
    "        im_y=im_df['y']\n",
    "        im_counter = Counter(im_y)\n",
    "        print(f\"{im_files[i]}{im_counter}\")\n",
    "        bal_df = pd.read_csv(bal_directory + bal_files[i])\n",
    "        bal_y=bal_df['y']\n",
    "        bal_counter = Counter(bal_y)    \n",
    "        print(f\"{bal_files[i]}{bal_counter}\")"
   ]
  },
  {
   "cell_type": "code",
   "execution_count": 9,
   "metadata": {},
   "outputs": [
    {
     "name": "stdout",
     "output_type": "stream",
     "text": [
      "subject_001_01__y.csvCounter({0.0: 6442, 3.0: 1530, 2.0: 788, 1.0: 711})\n",
      "subject_001_01__y.csvCounter({0: 3500, 1: 3500, 2: 3500, 3: 3500})\n",
      "subject_001_02__y.csvCounter({0.0: 12564, 3.0: 2852, 2.0: 1148, 1.0: 977})\n",
      "subject_001_02__y.csvCounter({0: 3500, 1: 3500, 2: 3500, 3: 3500})\n",
      "subject_001_03__y.csvCounter({0.0: 8297, 2.0: 1106, 3.0: 709, 1.0: 673})\n",
      "subject_001_03__y.csvCounter({0: 3500, 1: 3500, 2: 3500, 3: 3500})\n",
      "subject_001_04__y.csvCounter({0.0: 9885, 3.0: 1745, 1.0: 1226, 2.0: 881})\n",
      "subject_001_04__y.csvCounter({0: 3500, 1: 3500, 2: 3500, 3: 3500})\n",
      "subject_001_05__y.csvCounter({0.0: 11064, 2.0: 1751, 1.0: 1130, 3.0: 833})\n",
      "subject_001_05__y.csvCounter({0: 3500, 1: 3500, 2: 3500, 3: 3500})\n",
      "subject_001_06__y.csvCounter({0.0: 8313, 1.0: 625, 2.0: 572, 3.0: 146})\n",
      "subject_001_06__y.csvCounter({0: 3500, 1: 3500, 2: 3500, 3: 3500})\n",
      "subject_002_01__y.csvCounter({0.0: 11045, 3.0: 1719, 2.0: 727, 1.0: 507})\n",
      "subject_002_01__y.csvCounter({0: 3500, 1: 3500, 2: 3500, 3: 3500})\n",
      "subject_002_02__y.csvCounter({0.0: 9700, 3.0: 3414, 2.0: 493, 1.0: 241})\n",
      "subject_002_02__y.csvCounter({0: 3500, 1: 3500, 2: 3500, 3: 3500})\n",
      "subject_002_03__y.csvCounter({0.0: 9067, 3.0: 2317, 2.0: 501, 1.0: 312})\n",
      "subject_002_03__y.csvCounter({0: 3500, 1: 3500, 2: 3500, 3: 3500})\n",
      "subject_002_04__y.csvCounter({0.0: 9857, 3.0: 2106, 2.0: 483, 1.0: 417})\n",
      "subject_002_04__y.csvCounter({0: 3500, 1: 3500, 2: 3500, 3: 3500})\n",
      "subject_002_05__y.csvCounter({0.0: 7555, 3.0: 2130, 1.0: 472, 2.0: 421})\n",
      "subject_002_05__y.csvCounter({0: 3500, 1: 3500, 2: 3500, 3: 3500})\n",
      "subject_003_01__y.csvCounter({0.0: 6917, 3.0: 953, 2.0: 678, 1.0: 528})\n",
      "subject_003_01__y.csvCounter({0: 3500, 1: 3500, 2: 3500, 3: 3500})\n",
      "subject_003_02__y.csvCounter({0.0: 10062, 3.0: 1170, 1.0: 463, 2.0: 106})\n",
      "subject_003_02__y.csvCounter({0: 3500, 1: 3500, 2: 3500, 3: 3500})\n",
      "subject_004_01__y.csvCounter({0.0: 6548, 3.0: 888, 2.0: 643, 1.0: 496})\n",
      "subject_004_01__y.csvCounter({0: 3500, 1: 3500, 2: 3500, 3: 3500})\n",
      "subject_004_02__y.csvCounter({0.0: 6775, 3.0: 905, 1.0: 512, 2.0: 425})\n",
      "subject_004_02__y.csvCounter({0: 3500, 1: 3500, 2: 3500, 3: 3500})\n",
      "subject_005_01__y.csvCounter({0.0: 11664, 3.0: 1364, 2.0: 551, 1.0: 439})\n",
      "subject_005_01__y.csvCounter({0: 3500, 1: 3500, 2: 3500, 3: 3500})\n",
      "subject_005_02__y.csvCounter({0.0: 7056, 2.0: 667, 1.0: 463, 3.0: 442})\n",
      "subject_005_02__y.csvCounter({0: 3500, 1: 3500, 2: 3500, 3: 3500})\n",
      "subject_005_03__y.csvCounter({0.0: 9277, 3.0: 1017, 2.0: 533, 1.0: 397})\n",
      "subject_005_03__y.csvCounter({0: 3500, 1: 3500, 2: 3500, 3: 3500})\n",
      "subject_006_01__y.csvCounter({0.0: 9508, 3.0: 1120, 2.0: 826, 1.0: 575})\n",
      "subject_006_01__y.csvCounter({0: 3500, 1: 3500, 2: 3500, 3: 3500})\n",
      "subject_006_02__y.csvCounter({0.0: 12275, 3.0: 1588, 1.0: 544, 2.0: 482})\n",
      "subject_006_02__y.csvCounter({0: 3500, 1: 3500, 2: 3500, 3: 3500})\n",
      "subject_006_03__y.csvCounter({0.0: 8494, 3.0: 2042, 2.0: 400, 1.0: 344})\n",
      "subject_006_03__y.csvCounter({0: 3500, 1: 3500, 2: 3500, 3: 3500})\n",
      "subject_007_01__y.csvCounter({0.0: 7914, 3.0: 2712, 2.0: 540, 1.0: 382})\n",
      "subject_007_01__y.csvCounter({0: 3500, 1: 3500, 2: 3500, 3: 3500})\n",
      "subject_007_02__y.csvCounter({0.0: 8444, 3.0: 2638, 2.0: 542, 1.0: 121})\n",
      "subject_007_02__y.csvCounter({0: 3500, 1: 3500, 2: 3500, 3: 3500})\n",
      "subject_007_03__y.csvCounter({0.0: 7176, 3.0: 3204, 2.0: 426, 1.0: 352})\n",
      "subject_007_03__y.csvCounter({0: 3500, 1: 3500, 2: 3500, 3: 3500})\n",
      "subject_007_04__y.csvCounter({0.0: 7570, 3.0: 1634, 2.0: 405, 1.0: 249})\n",
      "subject_007_04__y.csvCounter({0: 3500, 1: 3500, 2: 3500, 3: 3500})\n",
      "subject_008_01__y.csvCounter({0.0: 9890, 3.0: 1322, 2.0: 678, 1.0: 143})\n",
      "subject_008_01__y.csvCounter({0: 3500, 1: 3500, 2: 3500, 3: 3500})\n"
     ]
    }
   ],
   "source": [
    "balance_data('FinalData/', 'BalancedData/',  imbalanced_files, balanced_files)"
   ]
  },
  {
   "cell_type": "markdown",
   "metadata": {},
   "source": [
    "# Erros files"
   ]
  },
  {
   "cell_type": "code",
   "execution_count": 10,
   "metadata": {},
   "outputs": [
    {
     "ename": "ValueError",
     "evalue": "The {3} target class is/are not present in the data.",
     "output_type": "error",
     "traceback": [
      "\u001b[1;31m---------------------------------------------------------------------------\u001b[0m",
      "\u001b[1;31mValueError\u001b[0m                                Traceback (most recent call last)",
      "\u001b[1;32m<ipython-input-10-f44ca9b84aba>\u001b[0m in \u001b[0;36m<module>\u001b[1;34m\u001b[0m\n\u001b[0;32m      7\u001b[0m \u001b[0mstrategy\u001b[0m \u001b[1;33m=\u001b[0m \u001b[1;33m{\u001b[0m\u001b[1;36m1\u001b[0m\u001b[1;33m:\u001b[0m\u001b[1;36m3500\u001b[0m\u001b[1;33m,\u001b[0m \u001b[1;36m2\u001b[0m\u001b[1;33m:\u001b[0m\u001b[1;36m3500\u001b[0m\u001b[1;33m,\u001b[0m \u001b[1;36m3\u001b[0m\u001b[1;33m:\u001b[0m\u001b[1;36m3500\u001b[0m\u001b[1;33m}\u001b[0m\u001b[1;33m\u001b[0m\u001b[1;33m\u001b[0m\u001b[0m\n\u001b[0;32m      8\u001b[0m \u001b[0moversample\u001b[0m \u001b[1;33m=\u001b[0m \u001b[0mSMOTE\u001b[0m\u001b[1;33m(\u001b[0m\u001b[0msampling_strategy\u001b[0m\u001b[1;33m=\u001b[0m\u001b[0mstrategy\u001b[0m\u001b[1;33m)\u001b[0m\u001b[1;33m\u001b[0m\u001b[1;33m\u001b[0m\u001b[0m\n\u001b[1;32m----> 9\u001b[1;33m \u001b[0mX\u001b[0m\u001b[1;33m,\u001b[0m \u001b[0my\u001b[0m \u001b[1;33m=\u001b[0m \u001b[0moversample\u001b[0m\u001b[1;33m.\u001b[0m\u001b[0mfit_resample\u001b[0m\u001b[1;33m(\u001b[0m\u001b[0mX\u001b[0m\u001b[1;33m,\u001b[0m \u001b[0my\u001b[0m\u001b[1;33m)\u001b[0m\u001b[1;33m\u001b[0m\u001b[1;33m\u001b[0m\u001b[0m\n\u001b[0m\u001b[0;32m     10\u001b[0m \u001b[0munder\u001b[0m \u001b[1;33m=\u001b[0m \u001b[0mRandomUnderSampler\u001b[0m\u001b[1;33m(\u001b[0m\u001b[0mrandom_state\u001b[0m \u001b[1;33m=\u001b[0m \u001b[1;36m101\u001b[0m\u001b[1;33m)\u001b[0m\u001b[1;33m\u001b[0m\u001b[1;33m\u001b[0m\u001b[0m\n\u001b[0;32m     11\u001b[0m \u001b[0mX\u001b[0m\u001b[1;33m,\u001b[0m \u001b[0my\u001b[0m \u001b[1;33m=\u001b[0m \u001b[0munder\u001b[0m\u001b[1;33m.\u001b[0m\u001b[0mfit_resample\u001b[0m\u001b[1;33m(\u001b[0m\u001b[0mX\u001b[0m\u001b[1;33m,\u001b[0m \u001b[0my\u001b[0m\u001b[1;33m)\u001b[0m\u001b[1;33m\u001b[0m\u001b[1;33m\u001b[0m\u001b[0m\n",
      "\u001b[1;32m~\\Anaconda3\\lib\\site-packages\\imblearn\\base.py\u001b[0m in \u001b[0;36mfit_resample\u001b[1;34m(self, X, y)\u001b[0m\n\u001b[0;32m     80\u001b[0m \u001b[1;33m\u001b[0m\u001b[0m\n\u001b[0;32m     81\u001b[0m         self.sampling_strategy_ = check_sampling_strategy(\n\u001b[1;32m---> 82\u001b[1;33m             self.sampling_strategy, y, self._sampling_type)\n\u001b[0m\u001b[0;32m     83\u001b[0m \u001b[1;33m\u001b[0m\u001b[0m\n\u001b[0;32m     84\u001b[0m         \u001b[0moutput\u001b[0m \u001b[1;33m=\u001b[0m \u001b[0mself\u001b[0m\u001b[1;33m.\u001b[0m\u001b[0m_fit_resample\u001b[0m\u001b[1;33m(\u001b[0m\u001b[0mX\u001b[0m\u001b[1;33m,\u001b[0m \u001b[0my\u001b[0m\u001b[1;33m)\u001b[0m\u001b[1;33m\u001b[0m\u001b[1;33m\u001b[0m\u001b[0m\n",
      "\u001b[1;32m~\\Anaconda3\\lib\\site-packages\\imblearn\\utils\\_validation.py\u001b[0m in \u001b[0;36mcheck_sampling_strategy\u001b[1;34m(sampling_strategy, y, sampling_type, **kwargs)\u001b[0m\n\u001b[0;32m    449\u001b[0m     \u001b[1;32melif\u001b[0m \u001b[0misinstance\u001b[0m\u001b[1;33m(\u001b[0m\u001b[0msampling_strategy\u001b[0m\u001b[1;33m,\u001b[0m \u001b[0mdict\u001b[0m\u001b[1;33m)\u001b[0m\u001b[1;33m:\u001b[0m\u001b[1;33m\u001b[0m\u001b[1;33m\u001b[0m\u001b[0m\n\u001b[0;32m    450\u001b[0m         return OrderedDict(sorted(\n\u001b[1;32m--> 451\u001b[1;33m             \u001b[0m_sampling_strategy_dict\u001b[0m\u001b[1;33m(\u001b[0m\u001b[0msampling_strategy\u001b[0m\u001b[1;33m,\u001b[0m \u001b[0my\u001b[0m\u001b[1;33m,\u001b[0m \u001b[0msampling_type\u001b[0m\u001b[1;33m)\u001b[0m\u001b[1;33m\u001b[0m\u001b[1;33m\u001b[0m\u001b[0m\n\u001b[0m\u001b[0;32m    452\u001b[0m             .items()))\n\u001b[0;32m    453\u001b[0m     \u001b[1;32melif\u001b[0m \u001b[0misinstance\u001b[0m\u001b[1;33m(\u001b[0m\u001b[0msampling_strategy\u001b[0m\u001b[1;33m,\u001b[0m \u001b[0mlist\u001b[0m\u001b[1;33m)\u001b[0m\u001b[1;33m:\u001b[0m\u001b[1;33m\u001b[0m\u001b[1;33m\u001b[0m\u001b[0m\n",
      "\u001b[1;32m~\\Anaconda3\\lib\\site-packages\\imblearn\\utils\\_validation.py\u001b[0m in \u001b[0;36m_sampling_strategy_dict\u001b[1;34m(sampling_strategy, y, sampling_type)\u001b[0m\n\u001b[0;32m    227\u001b[0m     \u001b[1;32mif\u001b[0m \u001b[0mlen\u001b[0m\u001b[1;33m(\u001b[0m\u001b[0mset_diff_sampling_strategy_target\u001b[0m\u001b[1;33m)\u001b[0m \u001b[1;33m>\u001b[0m \u001b[1;36m0\u001b[0m\u001b[1;33m:\u001b[0m\u001b[1;33m\u001b[0m\u001b[1;33m\u001b[0m\u001b[0m\n\u001b[0;32m    228\u001b[0m         raise ValueError(\"The {} target class is/are not present in the\"\n\u001b[1;32m--> 229\u001b[1;33m                          \" data.\".format(set_diff_sampling_strategy_target))\n\u001b[0m\u001b[0;32m    230\u001b[0m     \u001b[1;31m# check that there is no negative number\u001b[0m\u001b[1;33m\u001b[0m\u001b[1;33m\u001b[0m\u001b[1;33m\u001b[0m\u001b[0m\n\u001b[0;32m    231\u001b[0m     \u001b[1;32mif\u001b[0m \u001b[0many\u001b[0m\u001b[1;33m(\u001b[0m\u001b[0mn_samples\u001b[0m \u001b[1;33m<\u001b[0m \u001b[1;36m0\u001b[0m \u001b[1;32mfor\u001b[0m \u001b[0mn_samples\u001b[0m \u001b[1;32min\u001b[0m \u001b[0msampling_strategy\u001b[0m\u001b[1;33m.\u001b[0m\u001b[0mvalues\u001b[0m\u001b[1;33m(\u001b[0m\u001b[1;33m)\u001b[0m\u001b[1;33m)\u001b[0m\u001b[1;33m:\u001b[0m\u001b[1;33m\u001b[0m\u001b[1;33m\u001b[0m\u001b[0m\n",
      "\u001b[1;31mValueError\u001b[0m: The {3} target class is/are not present in the data."
     ]
    }
   ],
   "source": [
    "df = pd.read_csv('subject_001_07__y.csv')\n",
    "y=df['y']\n",
    "X = df.iloc[:,:-1]\n",
    "y = LabelEncoder().fit_transform(y)\n",
    "#mean_val = int(np.median(np.array(list(counter.values()))))\n",
    "#oversample = SMOTE({1:mean_val, 2:mean_val})\n",
    "strategy = {1:3500, 2:3500, 3:3500}\n",
    "oversample = SMOTE(sampling_strategy=strategy)        \n",
    "X, y = oversample.fit_resample(X, y)\n",
    "under = RandomUnderSampler(random_state = 101)\n",
    "X, y = under.fit_resample(X, y)\n",
    "df_balanced = pd.DataFrame(X, columns = ['m1', 'm2', 'm3', 'm4', 'm5', 'm6', 'm11', 'm12', 'm13', 'm14', 'm15',\n",
    "'m16', 'm21', 'm22', 'm23', 'm24', 'm25', 'm26', 'm31', 'm32', 'm33',\n",
    "'m34', 'm35', 'm36'])\n",
    "df_balanced['y'] = y\n",
    "df_balanced.to_csv('BalancedData/subject_001_07__y.csv', index=False)\n"
   ]
  },
  {
   "cell_type": "code",
   "execution_count": 11,
   "metadata": {},
   "outputs": [],
   "source": [
    "df = pd.read_csv('subject_001_07__y.csv')\n",
    "y=df['y']\n",
    "X = df.iloc[:,:-1]\n",
    "y = LabelEncoder().fit_transform(y)\n",
    "#mean_val = int(np.median(np.array(list(counter.values()))))\n",
    "#oversample = SMOTE({1:mean_val, 2:mean_val})\n",
    "strategy = {1:3500, 2:3500}\n",
    "oversample = SMOTE(sampling_strategy=strategy)        \n",
    "X, y = oversample.fit_resample(X, y)\n",
    "under = RandomUnderSampler(random_state = 101)\n",
    "X, y = under.fit_resample(X, y)\n",
    "df_balanced = pd.DataFrame(X, columns = ['m1', 'm2', 'm3', 'm4', 'm5', 'm6', 'm11', 'm12', 'm13', 'm14', 'm15',\n",
    "'m16', 'm21', 'm22', 'm23', 'm24', 'm25', 'm26', 'm31', 'm32', 'm33',\n",
    "'m34', 'm35', 'm36'])\n",
    "df_balanced['y'] = y\n",
    "df_balanced.to_csv('BalancedData/subject_001_07__y.csv', index=False)"
   ]
  },
  {
   "cell_type": "code",
   "execution_count": 13,
   "metadata": {},
   "outputs": [
    {
     "name": "stdout",
     "output_type": "stream",
     "text": [
      "Counter({0: 3500, 1: 3500, 2: 3500})\n"
     ]
    }
   ],
   "source": [
    "df = pd.read_csv('BalancedData/subject_001_07__y.csv')\n",
    "y=df['y']\n",
    "counter = Counter(y)\n",
    "print(counter)"
   ]
  },
  {
   "cell_type": "code",
   "execution_count": 14,
   "metadata": {},
   "outputs": [
    {
     "ename": "ValueError",
     "evalue": "With over-sampling methods, the number of samples in a class should be greater or equal to the original number of samples. Originally, there is 7431 samples and 3500 samples are asked.",
     "output_type": "error",
     "traceback": [
      "\u001b[1;31m---------------------------------------------------------------------------\u001b[0m",
      "\u001b[1;31mValueError\u001b[0m                                Traceback (most recent call last)",
      "\u001b[1;32m<ipython-input-14-2ca7d488b654>\u001b[0m in \u001b[0;36m<module>\u001b[1;34m\u001b[0m\n\u001b[0;32m      7\u001b[0m \u001b[0mstrategy\u001b[0m \u001b[1;33m=\u001b[0m \u001b[1;33m{\u001b[0m\u001b[1;36m1\u001b[0m\u001b[1;33m:\u001b[0m\u001b[1;36m3500\u001b[0m\u001b[1;33m,\u001b[0m \u001b[1;36m2\u001b[0m\u001b[1;33m:\u001b[0m\u001b[1;36m3500\u001b[0m\u001b[1;33m,\u001b[0m \u001b[1;36m3\u001b[0m\u001b[1;33m:\u001b[0m\u001b[1;36m3500\u001b[0m\u001b[1;33m}\u001b[0m\u001b[1;33m\u001b[0m\u001b[1;33m\u001b[0m\u001b[0m\n\u001b[0;32m      8\u001b[0m \u001b[0moversample\u001b[0m \u001b[1;33m=\u001b[0m \u001b[0mSMOTE\u001b[0m\u001b[1;33m(\u001b[0m\u001b[0msampling_strategy\u001b[0m\u001b[1;33m=\u001b[0m\u001b[0mstrategy\u001b[0m\u001b[1;33m)\u001b[0m\u001b[1;33m\u001b[0m\u001b[1;33m\u001b[0m\u001b[0m\n\u001b[1;32m----> 9\u001b[1;33m \u001b[0mX\u001b[0m\u001b[1;33m,\u001b[0m \u001b[0my\u001b[0m \u001b[1;33m=\u001b[0m \u001b[0moversample\u001b[0m\u001b[1;33m.\u001b[0m\u001b[0mfit_resample\u001b[0m\u001b[1;33m(\u001b[0m\u001b[0mX\u001b[0m\u001b[1;33m,\u001b[0m \u001b[0my\u001b[0m\u001b[1;33m)\u001b[0m\u001b[1;33m\u001b[0m\u001b[1;33m\u001b[0m\u001b[0m\n\u001b[0m\u001b[0;32m     10\u001b[0m \u001b[0munder\u001b[0m \u001b[1;33m=\u001b[0m \u001b[0mRandomUnderSampler\u001b[0m\u001b[1;33m(\u001b[0m\u001b[0mrandom_state\u001b[0m \u001b[1;33m=\u001b[0m \u001b[1;36m101\u001b[0m\u001b[1;33m)\u001b[0m\u001b[1;33m\u001b[0m\u001b[1;33m\u001b[0m\u001b[0m\n\u001b[0;32m     11\u001b[0m \u001b[0mX\u001b[0m\u001b[1;33m,\u001b[0m \u001b[0my\u001b[0m \u001b[1;33m=\u001b[0m \u001b[0munder\u001b[0m\u001b[1;33m.\u001b[0m\u001b[0mfit_resample\u001b[0m\u001b[1;33m(\u001b[0m\u001b[0mX\u001b[0m\u001b[1;33m,\u001b[0m \u001b[0my\u001b[0m\u001b[1;33m)\u001b[0m\u001b[1;33m\u001b[0m\u001b[1;33m\u001b[0m\u001b[0m\n",
      "\u001b[1;32m~\\Anaconda3\\lib\\site-packages\\imblearn\\base.py\u001b[0m in \u001b[0;36mfit_resample\u001b[1;34m(self, X, y)\u001b[0m\n\u001b[0;32m     80\u001b[0m \u001b[1;33m\u001b[0m\u001b[0m\n\u001b[0;32m     81\u001b[0m         self.sampling_strategy_ = check_sampling_strategy(\n\u001b[1;32m---> 82\u001b[1;33m             self.sampling_strategy, y, self._sampling_type)\n\u001b[0m\u001b[0;32m     83\u001b[0m \u001b[1;33m\u001b[0m\u001b[0m\n\u001b[0;32m     84\u001b[0m         \u001b[0moutput\u001b[0m \u001b[1;33m=\u001b[0m \u001b[0mself\u001b[0m\u001b[1;33m.\u001b[0m\u001b[0m_fit_resample\u001b[0m\u001b[1;33m(\u001b[0m\u001b[0mX\u001b[0m\u001b[1;33m,\u001b[0m \u001b[0my\u001b[0m\u001b[1;33m)\u001b[0m\u001b[1;33m\u001b[0m\u001b[1;33m\u001b[0m\u001b[0m\n",
      "\u001b[1;32m~\\Anaconda3\\lib\\site-packages\\imblearn\\utils\\_validation.py\u001b[0m in \u001b[0;36mcheck_sampling_strategy\u001b[1;34m(sampling_strategy, y, sampling_type, **kwargs)\u001b[0m\n\u001b[0;32m    449\u001b[0m     \u001b[1;32melif\u001b[0m \u001b[0misinstance\u001b[0m\u001b[1;33m(\u001b[0m\u001b[0msampling_strategy\u001b[0m\u001b[1;33m,\u001b[0m \u001b[0mdict\u001b[0m\u001b[1;33m)\u001b[0m\u001b[1;33m:\u001b[0m\u001b[1;33m\u001b[0m\u001b[1;33m\u001b[0m\u001b[0m\n\u001b[0;32m    450\u001b[0m         return OrderedDict(sorted(\n\u001b[1;32m--> 451\u001b[1;33m             \u001b[0m_sampling_strategy_dict\u001b[0m\u001b[1;33m(\u001b[0m\u001b[0msampling_strategy\u001b[0m\u001b[1;33m,\u001b[0m \u001b[0my\u001b[0m\u001b[1;33m,\u001b[0m \u001b[0msampling_type\u001b[0m\u001b[1;33m)\u001b[0m\u001b[1;33m\u001b[0m\u001b[1;33m\u001b[0m\u001b[0m\n\u001b[0m\u001b[0;32m    452\u001b[0m             .items()))\n\u001b[0;32m    453\u001b[0m     \u001b[1;32melif\u001b[0m \u001b[0misinstance\u001b[0m\u001b[1;33m(\u001b[0m\u001b[0msampling_strategy\u001b[0m\u001b[1;33m,\u001b[0m \u001b[0mlist\u001b[0m\u001b[1;33m)\u001b[0m\u001b[1;33m:\u001b[0m\u001b[1;33m\u001b[0m\u001b[1;33m\u001b[0m\u001b[0m\n",
      "\u001b[1;32m~\\Anaconda3\\lib\\site-packages\\imblearn\\utils\\_validation.py\u001b[0m in \u001b[0;36m_sampling_strategy_dict\u001b[1;34m(sampling_strategy, y, sampling_type)\u001b[0m\n\u001b[0;32m    244\u001b[0m                                  \u001b[1;34m\" Originally, there is {} samples and {}\"\u001b[0m\u001b[1;33m\u001b[0m\u001b[1;33m\u001b[0m\u001b[0m\n\u001b[0;32m    245\u001b[0m                                  \" samples are asked.\".format(\n\u001b[1;32m--> 246\u001b[1;33m                                      target_stats[class_sample], n_samples))\n\u001b[0m\u001b[0;32m    247\u001b[0m             \u001b[1;32mif\u001b[0m \u001b[0mn_samples\u001b[0m \u001b[1;33m>\u001b[0m \u001b[0mn_samples_majority\u001b[0m\u001b[1;33m:\u001b[0m\u001b[1;33m\u001b[0m\u001b[1;33m\u001b[0m\u001b[0m\n\u001b[0;32m    248\u001b[0m                 warnings.warn(\"After over-sampling, the number of samples ({})\"\n",
      "\u001b[1;31mValueError\u001b[0m: With over-sampling methods, the number of samples in a class should be greater or equal to the original number of samples. Originally, there is 7431 samples and 3500 samples are asked."
     ]
    }
   ],
   "source": [
    "df = pd.read_csv('subject_001_08__y.csv')\n",
    "y=df['y']\n",
    "X = df.iloc[:,:-1]\n",
    "y = LabelEncoder().fit_transform(y)\n",
    "#mean_val = int(np.median(np.array(list(counter.values()))))\n",
    "#oversample = SMOTE({1:mean_val, 2:mean_val})\n",
    "strategy = {1:3500, 2:3500, 3:3500}\n",
    "oversample = SMOTE(sampling_strategy=strategy)        \n",
    "X, y = oversample.fit_resample(X, y)\n",
    "under = RandomUnderSampler(random_state = 101)\n",
    "X, y = under.fit_resample(X, y)\n",
    "df_balanced = pd.DataFrame(X, columns = ['m1', 'm2', 'm3', 'm4', 'm5', 'm6', 'm11', 'm12', 'm13', 'm14', 'm15',\n",
    "'m16', 'm21', 'm22', 'm23', 'm24', 'm25', 'm26', 'm31', 'm32', 'm33',\n",
    "'m34', 'm35', 'm36'])\n",
    "df_balanced['y'] = y\n",
    "df_balanced.to_csv('BalancedData/subject_001_08__y.csv', index=False)\n"
   ]
  },
  {
   "cell_type": "code",
   "execution_count": 15,
   "metadata": {},
   "outputs": [],
   "source": [
    "df = pd.read_csv('subject_001_08__y.csv')\n",
    "y=df['y']\n",
    "X = df.iloc[:,:-1]\n",
    "y = LabelEncoder().fit_transform(y)\n",
    "#mean_val = int(np.median(np.array(list(counter.values()))))\n",
    "#oversample = SMOTE({1:mean_val, 2:mean_val})\n",
    "strategy = {1:3500, 2:3500}\n",
    "oversample = SMOTE(sampling_strategy=strategy)        \n",
    "X, y = oversample.fit_resample(X, y)\n",
    "under = RandomUnderSampler(random_state = 101)\n",
    "X, y = under.fit_resample(X, y)\n",
    "df_balanced = pd.DataFrame(X, columns = ['m1', 'm2', 'm3', 'm4', 'm5', 'm6', 'm11', 'm12', 'm13', 'm14', 'm15',\n",
    "'m16', 'm21', 'm22', 'm23', 'm24', 'm25', 'm26', 'm31', 'm32', 'm33',\n",
    "'m34', 'm35', 'm36'])\n",
    "df_balanced['y'] = y\n",
    "df_balanced.to_csv('BalancedData/subject_001_08__y.csv', index=False)\n"
   ]
  },
  {
   "cell_type": "code",
   "execution_count": 16,
   "metadata": {},
   "outputs": [
    {
     "name": "stdout",
     "output_type": "stream",
     "text": [
      "Counter({0: 3500, 1: 3500, 2: 3500, 3: 3500})\n"
     ]
    }
   ],
   "source": [
    "df = pd.read_csv('BalancedData/subject_001_08__y.csv')\n",
    "y=df['y']\n",
    "counter = Counter(y)\n",
    "print(counter)"
   ]
  },
  {
   "cell_type": "code",
   "execution_count": 17,
   "metadata": {},
   "outputs": [
    {
     "ename": "ValueError",
     "evalue": "The {3} target class is/are not present in the data.",
     "output_type": "error",
     "traceback": [
      "\u001b[1;31m---------------------------------------------------------------------------\u001b[0m",
      "\u001b[1;31mValueError\u001b[0m                                Traceback (most recent call last)",
      "\u001b[1;32m<ipython-input-17-680b9fac1a8e>\u001b[0m in \u001b[0;36m<module>\u001b[1;34m\u001b[0m\n\u001b[0;32m      7\u001b[0m \u001b[0mstrategy\u001b[0m \u001b[1;33m=\u001b[0m \u001b[1;33m{\u001b[0m\u001b[1;36m1\u001b[0m\u001b[1;33m:\u001b[0m\u001b[1;36m3500\u001b[0m\u001b[1;33m,\u001b[0m \u001b[1;36m2\u001b[0m\u001b[1;33m:\u001b[0m\u001b[1;36m3500\u001b[0m\u001b[1;33m,\u001b[0m \u001b[1;36m3\u001b[0m\u001b[1;33m:\u001b[0m\u001b[1;36m3500\u001b[0m\u001b[1;33m}\u001b[0m\u001b[1;33m\u001b[0m\u001b[1;33m\u001b[0m\u001b[0m\n\u001b[0;32m      8\u001b[0m \u001b[0moversample\u001b[0m \u001b[1;33m=\u001b[0m \u001b[0mSMOTE\u001b[0m\u001b[1;33m(\u001b[0m\u001b[0msampling_strategy\u001b[0m\u001b[1;33m=\u001b[0m\u001b[0mstrategy\u001b[0m\u001b[1;33m)\u001b[0m\u001b[1;33m\u001b[0m\u001b[1;33m\u001b[0m\u001b[0m\n\u001b[1;32m----> 9\u001b[1;33m \u001b[0mX\u001b[0m\u001b[1;33m,\u001b[0m \u001b[0my\u001b[0m \u001b[1;33m=\u001b[0m \u001b[0moversample\u001b[0m\u001b[1;33m.\u001b[0m\u001b[0mfit_resample\u001b[0m\u001b[1;33m(\u001b[0m\u001b[0mX\u001b[0m\u001b[1;33m,\u001b[0m \u001b[0my\u001b[0m\u001b[1;33m)\u001b[0m\u001b[1;33m\u001b[0m\u001b[1;33m\u001b[0m\u001b[0m\n\u001b[0m\u001b[0;32m     10\u001b[0m \u001b[0munder\u001b[0m \u001b[1;33m=\u001b[0m \u001b[0mRandomUnderSampler\u001b[0m\u001b[1;33m(\u001b[0m\u001b[0mrandom_state\u001b[0m \u001b[1;33m=\u001b[0m \u001b[1;36m101\u001b[0m\u001b[1;33m)\u001b[0m\u001b[1;33m\u001b[0m\u001b[1;33m\u001b[0m\u001b[0m\n\u001b[0;32m     11\u001b[0m \u001b[0mX\u001b[0m\u001b[1;33m,\u001b[0m \u001b[0my\u001b[0m \u001b[1;33m=\u001b[0m \u001b[0munder\u001b[0m\u001b[1;33m.\u001b[0m\u001b[0mfit_resample\u001b[0m\u001b[1;33m(\u001b[0m\u001b[0mX\u001b[0m\u001b[1;33m,\u001b[0m \u001b[0my\u001b[0m\u001b[1;33m)\u001b[0m\u001b[1;33m\u001b[0m\u001b[1;33m\u001b[0m\u001b[0m\n",
      "\u001b[1;32m~\\Anaconda3\\lib\\site-packages\\imblearn\\base.py\u001b[0m in \u001b[0;36mfit_resample\u001b[1;34m(self, X, y)\u001b[0m\n\u001b[0;32m     80\u001b[0m \u001b[1;33m\u001b[0m\u001b[0m\n\u001b[0;32m     81\u001b[0m         self.sampling_strategy_ = check_sampling_strategy(\n\u001b[1;32m---> 82\u001b[1;33m             self.sampling_strategy, y, self._sampling_type)\n\u001b[0m\u001b[0;32m     83\u001b[0m \u001b[1;33m\u001b[0m\u001b[0m\n\u001b[0;32m     84\u001b[0m         \u001b[0moutput\u001b[0m \u001b[1;33m=\u001b[0m \u001b[0mself\u001b[0m\u001b[1;33m.\u001b[0m\u001b[0m_fit_resample\u001b[0m\u001b[1;33m(\u001b[0m\u001b[0mX\u001b[0m\u001b[1;33m,\u001b[0m \u001b[0my\u001b[0m\u001b[1;33m)\u001b[0m\u001b[1;33m\u001b[0m\u001b[1;33m\u001b[0m\u001b[0m\n",
      "\u001b[1;32m~\\Anaconda3\\lib\\site-packages\\imblearn\\utils\\_validation.py\u001b[0m in \u001b[0;36mcheck_sampling_strategy\u001b[1;34m(sampling_strategy, y, sampling_type, **kwargs)\u001b[0m\n\u001b[0;32m    449\u001b[0m     \u001b[1;32melif\u001b[0m \u001b[0misinstance\u001b[0m\u001b[1;33m(\u001b[0m\u001b[0msampling_strategy\u001b[0m\u001b[1;33m,\u001b[0m \u001b[0mdict\u001b[0m\u001b[1;33m)\u001b[0m\u001b[1;33m:\u001b[0m\u001b[1;33m\u001b[0m\u001b[1;33m\u001b[0m\u001b[0m\n\u001b[0;32m    450\u001b[0m         return OrderedDict(sorted(\n\u001b[1;32m--> 451\u001b[1;33m             \u001b[0m_sampling_strategy_dict\u001b[0m\u001b[1;33m(\u001b[0m\u001b[0msampling_strategy\u001b[0m\u001b[1;33m,\u001b[0m \u001b[0my\u001b[0m\u001b[1;33m,\u001b[0m \u001b[0msampling_type\u001b[0m\u001b[1;33m)\u001b[0m\u001b[1;33m\u001b[0m\u001b[1;33m\u001b[0m\u001b[0m\n\u001b[0m\u001b[0;32m    452\u001b[0m             .items()))\n\u001b[0;32m    453\u001b[0m     \u001b[1;32melif\u001b[0m \u001b[0misinstance\u001b[0m\u001b[1;33m(\u001b[0m\u001b[0msampling_strategy\u001b[0m\u001b[1;33m,\u001b[0m \u001b[0mlist\u001b[0m\u001b[1;33m)\u001b[0m\u001b[1;33m:\u001b[0m\u001b[1;33m\u001b[0m\u001b[1;33m\u001b[0m\u001b[0m\n",
      "\u001b[1;32m~\\Anaconda3\\lib\\site-packages\\imblearn\\utils\\_validation.py\u001b[0m in \u001b[0;36m_sampling_strategy_dict\u001b[1;34m(sampling_strategy, y, sampling_type)\u001b[0m\n\u001b[0;32m    227\u001b[0m     \u001b[1;32mif\u001b[0m \u001b[0mlen\u001b[0m\u001b[1;33m(\u001b[0m\u001b[0mset_diff_sampling_strategy_target\u001b[0m\u001b[1;33m)\u001b[0m \u001b[1;33m>\u001b[0m \u001b[1;36m0\u001b[0m\u001b[1;33m:\u001b[0m\u001b[1;33m\u001b[0m\u001b[1;33m\u001b[0m\u001b[0m\n\u001b[0;32m    228\u001b[0m         raise ValueError(\"The {} target class is/are not present in the\"\n\u001b[1;32m--> 229\u001b[1;33m                          \" data.\".format(set_diff_sampling_strategy_target))\n\u001b[0m\u001b[0;32m    230\u001b[0m     \u001b[1;31m# check that there is no negative number\u001b[0m\u001b[1;33m\u001b[0m\u001b[1;33m\u001b[0m\u001b[1;33m\u001b[0m\u001b[0m\n\u001b[0;32m    231\u001b[0m     \u001b[1;32mif\u001b[0m \u001b[0many\u001b[0m\u001b[1;33m(\u001b[0m\u001b[0mn_samples\u001b[0m \u001b[1;33m<\u001b[0m \u001b[1;36m0\u001b[0m \u001b[1;32mfor\u001b[0m \u001b[0mn_samples\u001b[0m \u001b[1;32min\u001b[0m \u001b[0msampling_strategy\u001b[0m\u001b[1;33m.\u001b[0m\u001b[0mvalues\u001b[0m\u001b[1;33m(\u001b[0m\u001b[1;33m)\u001b[0m\u001b[1;33m)\u001b[0m\u001b[1;33m:\u001b[0m\u001b[1;33m\u001b[0m\u001b[1;33m\u001b[0m\u001b[0m\n",
      "\u001b[1;31mValueError\u001b[0m: The {3} target class is/are not present in the data."
     ]
    }
   ],
   "source": [
    "df = pd.read_csv('subject_003_03__y.csv')\n",
    "y=df['y']\n",
    "X = df.iloc[:,:-1]\n",
    "y = LabelEncoder().fit_transform(y)\n",
    "#mean_val = int(np.median(np.array(list(counter.values()))))\n",
    "#oversample = SMOTE({1:mean_val, 2:mean_val})\n",
    "strategy = {1:3500, 2:3500, 3:3500}\n",
    "oversample = SMOTE(sampling_strategy=strategy)        \n",
    "X, y = oversample.fit_resample(X, y)\n",
    "under = RandomUnderSampler(random_state = 101)\n",
    "X, y = under.fit_resample(X, y)\n",
    "df_balanced = pd.DataFrame(X, columns = ['m1', 'm2', 'm3', 'm4', 'm5', 'm6', 'm11', 'm12', 'm13', 'm14', 'm15',\n",
    "'m16', 'm21', 'm22', 'm23', 'm24', 'm25', 'm26', 'm31', 'm32', 'm33',\n",
    "'m34', 'm35', 'm36'])\n",
    "df_balanced['y'] = y\n",
    "df_balanced.to_csv('BalancedData/subject_003_03__y.csv', index=False)"
   ]
  },
  {
   "cell_type": "code",
   "execution_count": 18,
   "metadata": {},
   "outputs": [],
   "source": [
    "df = pd.read_csv('subject_003_03__y.csv')\n",
    "y=df['y']\n",
    "X = df.iloc[:,:-1]\n",
    "y = LabelEncoder().fit_transform(y)\n",
    "#mean_val = int(np.median(np.array(list(counter.values()))))\n",
    "#oversample = SMOTE({1:mean_val, 2:mean_val})\n",
    "strategy = {1:3500, 2:3500}\n",
    "oversample = SMOTE(sampling_strategy=strategy)        \n",
    "X, y = oversample.fit_resample(X, y)\n",
    "under = RandomUnderSampler(random_state = 101)\n",
    "X, y = under.fit_resample(X, y)\n",
    "df_balanced = pd.DataFrame(X, columns = ['m1', 'm2', 'm3', 'm4', 'm5', 'm6', 'm11', 'm12', 'm13', 'm14', 'm15',\n",
    "'m16', 'm21', 'm22', 'm23', 'm24', 'm25', 'm26', 'm31', 'm32', 'm33',\n",
    "'m34', 'm35', 'm36'])\n",
    "df_balanced['y'] = y\n",
    "df_balanced.to_csv('BalancedData/subject_003_03__y.csv', index=False)"
   ]
  },
  {
   "cell_type": "code",
   "execution_count": 19,
   "metadata": {},
   "outputs": [
    {
     "name": "stdout",
     "output_type": "stream",
     "text": [
      "Counter({0: 3500, 1: 3500, 2: 3500})\n"
     ]
    }
   ],
   "source": [
    "df = pd.read_csv('BalancedData/subject_003_03__y.csv')\n",
    "y=df['y']\n",
    "counter = Counter(y)\n",
    "print(counter)"
   ]
  },
  {
   "cell_type": "code",
   "execution_count": null,
   "metadata": {},
   "outputs": [],
   "source": []
  }
 ],
 "metadata": {
  "kernelspec": {
   "display_name": "Python 3",
   "language": "python",
   "name": "python3"
  },
  "language_info": {
   "codemirror_mode": {
    "name": "ipython",
    "version": 3
   },
   "file_extension": ".py",
   "mimetype": "text/x-python",
   "name": "python",
   "nbconvert_exporter": "python",
   "pygments_lexer": "ipython3",
   "version": "3.7.4"
  }
 },
 "nbformat": 4,
 "nbformat_minor": 2
}
