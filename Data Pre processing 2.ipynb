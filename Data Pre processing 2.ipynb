{
 "cells": [
  {
   "cell_type": "code",
   "execution_count": 2,
   "metadata": {},
   "outputs": [],
   "source": [
    "import pandas as pd\n",
    "import numpy as np \n",
    "from collections import Counter\n",
    "from scipy import stats\n",
    "import os"
   ]
  },
  {
   "cell_type": "code",
   "execution_count": 3,
   "metadata": {},
   "outputs": [],
   "source": [
    "allfiles = os.listdir('TestData/')"
   ]
  },
  {
   "cell_type": "code",
   "execution_count": 6,
   "metadata": {},
   "outputs": [
    {
     "data": {
      "text/plain": [
       "['subject_009_01__x.csv',\n",
       " 'subject_009_01__x_time.csv',\n",
       " 'subject_009_01__y_time.csv',\n",
       " 'subject_010_01__x.csv',\n",
       " 'subject_010_01__x_time.csv',\n",
       " 'subject_010_01__y_time.csv',\n",
       " 'subject_011_01__x.csv',\n",
       " 'subject_011_01__x_time.csv',\n",
       " 'subject_011_01__y_time.csv',\n",
       " 'subject_012_01__x.csv',\n",
       " 'subject_012_01__x_time.csv',\n",
       " 'subject_012_01__y_time.csv']"
      ]
     },
     "execution_count": 6,
     "metadata": {},
     "output_type": "execute_result"
    }
   ],
   "source": [
    "allfiles"
   ]
  },
  {
   "cell_type": "code",
   "execution_count": 7,
   "metadata": {},
   "outputs": [],
   "source": [
    "files = []\n",
    "\n",
    "for i in range(0,12, 3):\n",
    "    files.append([allfiles[i],allfiles[i+2]])\n",
    "\n",
    "   "
   ]
  },
  {
   "cell_type": "code",
   "execution_count": 8,
   "metadata": {},
   "outputs": [
    {
     "data": {
      "text/plain": [
       "[['subject_009_01__x.csv', 'subject_009_01__y_time.csv'],\n",
       " ['subject_010_01__x.csv', 'subject_010_01__y_time.csv'],\n",
       " ['subject_011_01__x.csv', 'subject_011_01__y_time.csv'],\n",
       " ['subject_012_01__x.csv', 'subject_012_01__y_time.csv']]"
      ]
     },
     "execution_count": 8,
     "metadata": {},
     "output_type": "execute_result"
    }
   ],
   "source": [
    "files"
   ]
  },
  {
   "cell_type": "code",
   "execution_count": 11,
   "metadata": {},
   "outputs": [],
   "source": [
    "def generateflattened(directory, files):\n",
    "    for file in files:\n",
    "        processed_data = []\n",
    "        x = pd.read_csv(directory + file[0], header=None)\n",
    "        x_v = x.to_numpy()\n",
    "        y_time = pd.read_csv(directory + file[1], header=None)\n",
    "        y_time.columns=['class']\n",
    "        y_v = y_time['class'].to_numpy()        \n",
    "        for i, t in enumerate(y_v):\n",
    "            x_i = i*4\n",
    "            data = x_v[x_i]\n",
    "            processed_data.append(data)\n",
    "        df = pd.DataFrame(processed_data, columns = ['m1','m2','m3','m4','m5','m6'])\n",
    "        df.to_csv('FinalTestData/' + file[1], index=False)    \n",
    "            \n"
   ]
  },
  {
   "cell_type": "code",
   "execution_count": 13,
   "metadata": {},
   "outputs": [],
   "source": [
    "generateflattened('TestData/',files)"
   ]
  },
  {
   "cell_type": "code",
   "execution_count": null,
   "metadata": {},
   "outputs": [],
   "source": [
    "generateflattened('TestData/', )"
   ]
  }
 ],
 "metadata": {
  "kernelspec": {
   "display_name": "Python 3",
   "language": "python",
   "name": "python3"
  },
  "language_info": {
   "codemirror_mode": {
    "name": "ipython",
    "version": 3
   },
   "file_extension": ".py",
   "mimetype": "text/x-python",
   "name": "python",
   "nbconvert_exporter": "python",
   "pygments_lexer": "ipython3",
   "version": "3.7.3"
  }
 },
 "nbformat": 4,
 "nbformat_minor": 4
}
