{
 "cells": [
  {
   "cell_type": "code",
   "execution_count": 1,
   "metadata": {},
   "outputs": [],
   "source": [
    "import pandas as pd\n",
    "import numpy as np \n",
    "from collections import Counter\n",
    "from scipy import stats"
   ]
  },
  {
   "cell_type": "code",
   "execution_count": 2,
   "metadata": {},
   "outputs": [],
   "source": [
    "x_time = pd.read_csv('TrainingData/subject_001_01__x_time.csv', header=None)\n",
    "x_time.columns = ['time']\n",
    "x = pd.read_csv('TrainingData/subject_001_01__x.csv', header=None)\n",
    "y_time = pd.read_csv('TrainingData/subject_001_01__y_time.csv', header=None)\n",
    "y_time.columns = ['time']\n",
    "y = pd.read_csv('TrainingData/subject_001_01__y.csv', header=None)\n",
    "y.columns=['class']"
   ]
  },
  {
   "cell_type": "code",
   "execution_count": 3,
   "metadata": {},
   "outputs": [],
   "source": [
    "x_time_v = x_time['time'].to_numpy()\n",
    "y_time_v = y_time['time'].to_numpy()\n",
    "x_v = x.to_numpy()\n",
    "y_v = y['class'].to_numpy()"
   ]
  },
  {
   "cell_type": "code",
   "execution_count": 4,
   "metadata": {},
   "outputs": [],
   "source": [
    "final_y_v = []\n",
    "x_cur = 0\n",
    "for i, y_time in enumerate(y_time_v):\n",
    "    while x_time_v[x_cur] < y_time:\n",
    "        x_cur += 1\n",
    "        final_y_v.append(y_v[i])\n",
    "final_y_v.append(y_v[-1])\n",
    "final_y_v = np.array(final_y_v)"
   ]
  },
  {
   "cell_type": "code",
   "execution_count": 5,
   "metadata": {},
   "outputs": [],
   "source": [
    "Y_v = final_y_v"
   ]
  },
  {
   "cell_type": "code",
   "execution_count": 6,
   "metadata": {},
   "outputs": [],
   "source": [
    "x_time = pd.read_csv('TrainingData/subject_001_02__x_time.csv', header=None)\n",
    "x_time.columns = ['time']\n",
    "x = pd.read_csv('TrainingData/subject_001_02__x.csv', header=None)\n",
    "y_time = pd.read_csv('TrainingData/subject_001_02__y_time.csv', header=None)\n",
    "y_time.columns = ['time']\n",
    "y = pd.read_csv('TrainingData/subject_001_02__y.csv', header=None)\n",
    "y.columns=['class']"
   ]
  },
  {
   "cell_type": "code",
   "execution_count": 7,
   "metadata": {},
   "outputs": [],
   "source": [
    "x_time_v = x_time['time'].to_numpy()\n",
    "y_time_v = y_time['time'].to_numpy()\n",
    "temp_x = x.to_numpy()\n",
    "x_v = np.vstack((x_v, temp_x))\n",
    "y_v = y['class'].to_numpy()"
   ]
  },
  {
   "cell_type": "code",
   "execution_count": 8,
   "metadata": {},
   "outputs": [],
   "source": [
    "final_y_v = []\n",
    "x_cur = 0\n",
    "for i, y_time in enumerate(y_time_v):\n",
    "    while x_time_v[x_cur] < y_time:\n",
    "        x_cur += 1\n",
    "        final_y_v.append(y_v[i])\n",
    "final_y_v.append(y_v[-1])\n",
    "final_y_v.append(y_v[-1])\n",
    "final_y_v.append(y_v[-1])"
   ]
  },
  {
   "cell_type": "code",
   "execution_count": 9,
   "metadata": {},
   "outputs": [],
   "source": [
    "Y_v = np.concatenate((Y_v, final_y_v))"
   ]
  },
  {
   "cell_type": "code",
   "execution_count": 10,
   "metadata": {},
   "outputs": [],
   "source": [
    "x_time = pd.read_csv('TrainingData/subject_001_03__x_time.csv', header=None)\n",
    "x_time.columns = ['time']\n",
    "x = pd.read_csv('TrainingData/subject_001_03__x.csv', header=None)\n",
    "y_time = pd.read_csv('TrainingData/subject_001_03__y_time.csv', header=None)\n",
    "y_time.columns = ['time']\n",
    "y = pd.read_csv('TrainingData/subject_001_03__y.csv', header=None)\n",
    "y.columns=['class']\n",
    "x_time_v = x_time['time'].to_numpy()\n",
    "y_time_v = y_time['time'].to_numpy()\n",
    "temp_x = x.to_numpy()\n",
    "x_v = np.vstack((x_v, temp_x))\n",
    "y_v = y['class'].to_numpy()"
   ]
  },
  {
   "cell_type": "code",
   "execution_count": 11,
   "metadata": {},
   "outputs": [],
   "source": [
    "final_y_v = []\n",
    "x_cur = 0\n",
    "for i, y_time in enumerate(y_time_v):\n",
    "    while x_time_v[x_cur] < y_time:\n",
    "        x_cur += 1\n",
    "        final_y_v.append(y_v[i])\n",
    "final_y_v.append(y_v[-1])"
   ]
  },
  {
   "cell_type": "code",
   "execution_count": 12,
   "metadata": {},
   "outputs": [],
   "source": [
    "Y_v = np.concatenate((Y_v, final_y_v))"
   ]
  },
  {
   "cell_type": "code",
   "execution_count": 13,
   "metadata": {},
   "outputs": [],
   "source": [
    "x_time = pd.read_csv('TrainingData/subject_001_04__x_time.csv', header=None)\n",
    "x_time.columns = ['time']\n",
    "x = pd.read_csv('TrainingData/subject_001_04__x.csv', header=None)\n",
    "y_time = pd.read_csv('TrainingData/subject_001_04__y_time.csv', header=None)\n",
    "y_time.columns = ['time']\n",
    "y = pd.read_csv('TrainingData/subject_001_04__y.csv', header=None)\n",
    "y.columns=['class']\n",
    "x_time_v = x_time['time'].to_numpy()\n",
    "y_time_v = y_time['time'].to_numpy()\n",
    "temp_x = x.to_numpy()\n",
    "x_v = np.vstack((x_v, temp_x))\n",
    "y_v = y['class'].to_numpy()"
   ]
  },
  {
   "cell_type": "code",
   "execution_count": 14,
   "metadata": {},
   "outputs": [],
   "source": [
    "final_y_v = []\n",
    "x_cur = 0\n",
    "for i, y_time in enumerate(y_time_v):\n",
    "    while x_time_v[x_cur] < y_time:\n",
    "        x_cur += 1\n",
    "        final_y_v.append(y_v[i])\n",
    "final_y_v.append(y_v[-1])\n",
    "final_y_v.append(y_v[-1])\n",
    "final_y_v.append(y_v[-1])"
   ]
  },
  {
   "cell_type": "code",
   "execution_count": 15,
   "metadata": {},
   "outputs": [],
   "source": [
    "Y_v = np.concatenate((Y_v, final_y_v))"
   ]
  },
  {
   "cell_type": "code",
   "execution_count": 16,
   "metadata": {},
   "outputs": [],
   "source": [
    "x_time = pd.read_csv('TrainingData/subject_001_05__x_time.csv', header=None)\n",
    "x_time.columns = ['time']\n",
    "x = pd.read_csv('TrainingData/subject_001_05__x.csv', header=None)\n",
    "y_time = pd.read_csv('TrainingData/subject_001_05__y_time.csv', header=None)\n",
    "y_time.columns = ['time']\n",
    "y = pd.read_csv('TrainingData/subject_001_05__y.csv', header=None)\n",
    "y.columns=['class']\n",
    "x_time_v = x_time['time'].to_numpy()\n",
    "y_time_v = y_time['time'].to_numpy()\n",
    "temp_x = x.to_numpy()\n",
    "x_v = np.vstack((x_v, temp_x))\n",
    "y_v = y['class'].to_numpy()"
   ]
  },
  {
   "cell_type": "code",
   "execution_count": 17,
   "metadata": {},
   "outputs": [],
   "source": [
    "final_y_v = []\n",
    "x_cur = 0\n",
    "for i, y_time in enumerate(y_time_v):\n",
    "    while x_time_v[x_cur] < y_time:\n",
    "        x_cur += 1\n",
    "        final_y_v.append(y_v[i])\n",
    "final_y_v.append(y_v[-1])\n",
    "final_y_v.append(y_v[-1])\n",
    "final_y_v.append(y_v[-1])\n",
    "final_y_v.append(y_v[-1])"
   ]
  },
  {
   "cell_type": "code",
   "execution_count": 18,
   "metadata": {},
   "outputs": [],
   "source": [
    "Y_v = np.concatenate((Y_v, final_y_v))"
   ]
  },
  {
   "cell_type": "code",
   "execution_count": 19,
   "metadata": {},
   "outputs": [],
   "source": [
    "x_time = pd.read_csv('TrainingData/subject_001_06__x_time.csv', header=None)\n",
    "x_time.columns = ['time']\n",
    "x = pd.read_csv('TrainingData/subject_001_06__x.csv', header=None)\n",
    "y_time = pd.read_csv('TrainingData/subject_001_06__y_time.csv', header=None)\n",
    "y_time.columns = ['time']\n",
    "y = pd.read_csv('TrainingData/subject_001_06__y.csv', header=None)\n",
    "y.columns=['class']\n",
    "x_time_v = x_time['time'].to_numpy()\n",
    "y_time_v = y_time['time'].to_numpy()\n",
    "temp_x = x.to_numpy()\n",
    "x_v = np.vstack((x_v, temp_x))\n",
    "y_v = y['class'].to_numpy()"
   ]
  },
  {
   "cell_type": "code",
   "execution_count": 20,
   "metadata": {},
   "outputs": [],
   "source": [
    "final_y_v = []\n",
    "x_cur = 0\n",
    "for i, y_time in enumerate(y_time_v):\n",
    "    while x_time_v[x_cur] < y_time:\n",
    "        x_cur += 1\n",
    "        final_y_v.append(y_v[i])\n",
    "final_y_v.append(y_v[-1])\n",
    "final_y_v.append(y_v[-1])"
   ]
  },
  {
   "cell_type": "code",
   "execution_count": 21,
   "metadata": {},
   "outputs": [],
   "source": [
    "Y_v = np.concatenate((Y_v, final_y_v))"
   ]
  },
  {
   "cell_type": "code",
   "execution_count": 22,
   "metadata": {},
   "outputs": [],
   "source": [
    "x_time = pd.read_csv('TrainingData/subject_001_07__x_time.csv', header=None)\n",
    "x_time.columns = ['time']\n",
    "x = pd.read_csv('TrainingData/subject_001_07__x.csv', header=None)\n",
    "y_time = pd.read_csv('TrainingData/subject_001_07__y_time.csv', header=None)\n",
    "y_time.columns = ['time']\n",
    "y = pd.read_csv('TrainingData/subject_001_07__y.csv', header=None)\n",
    "y.columns=['class']\n",
    "x_time_v = x_time['time'].to_numpy()\n",
    "y_time_v = y_time['time'].to_numpy()\n",
    "temp_x = x.to_numpy()\n",
    "x_v = np.vstack((x_v, temp_x))\n",
    "y_v = y['class'].to_numpy()"
   ]
  },
  {
   "cell_type": "code",
   "execution_count": 23,
   "metadata": {},
   "outputs": [],
   "source": [
    "final_y_v = []\n",
    "x_cur = 0\n",
    "for i, y_time in enumerate(y_time_v):\n",
    "    while x_time_v[x_cur] < y_time:\n",
    "        x_cur += 1\n",
    "        final_y_v.append(y_v[i])\n",
    "final_y_v.append(y_v[-1])\n",
    "final_y_v.append(y_v[-1])"
   ]
  },
  {
   "cell_type": "code",
   "execution_count": 24,
   "metadata": {},
   "outputs": [],
   "source": [
    "Y_v = np.concatenate((Y_v, final_y_v))"
   ]
  },
  {
   "cell_type": "code",
   "execution_count": 25,
   "metadata": {},
   "outputs": [],
   "source": [
    "x_time = pd.read_csv('TrainingData/subject_001_08__x_time.csv', header=None)\n",
    "x_time.columns = ['time']\n",
    "x = pd.read_csv('TrainingData/subject_001_08__x.csv', header=None)\n",
    "y_time = pd.read_csv('TrainingData/subject_001_08__y_time.csv', header=None)\n",
    "y_time.columns = ['time']\n",
    "y = pd.read_csv('TrainingData/subject_001_08__y.csv', header=None)\n",
    "y.columns=['class']\n",
    "x_time_v = x_time['time'].to_numpy()\n",
    "y_time_v = y_time['time'].to_numpy()\n",
    "temp_x = x.to_numpy()\n",
    "x_v = np.vstack((x_v, temp_x))\n",
    "y_v = y['class'].to_numpy()"
   ]
  },
  {
   "cell_type": "code",
   "execution_count": 26,
   "metadata": {},
   "outputs": [],
   "source": [
    "final_y_v = []\n",
    "x_cur = 0\n",
    "for i, y_time in enumerate(y_time_v):\n",
    "    while x_time_v[x_cur] < y_time:\n",
    "        x_cur += 1\n",
    "        final_y_v.append(y_v[i])\n",
    "final_y_v.append(y_v[-1])"
   ]
  },
  {
   "cell_type": "code",
   "execution_count": 27,
   "metadata": {},
   "outputs": [],
   "source": [
    "Y_v = np.concatenate((Y_v, final_y_v))"
   ]
  },
  {
   "cell_type": "code",
   "execution_count": 28,
   "metadata": {},
   "outputs": [],
   "source": [
    "x_time = pd.read_csv('TrainingData/subject_002_01__x_time.csv', header=None)\n",
    "x_time.columns = ['time']\n",
    "x = pd.read_csv('TrainingData/subject_002_01__x.csv', header=None)\n",
    "y_time = pd.read_csv('TrainingData/subject_002_01__y_time.csv', header=None)\n",
    "y_time.columns = ['time']\n",
    "y = pd.read_csv('TrainingData/subject_002_01__y.csv', header=None)\n",
    "y.columns=['class']\n",
    "x_time_v = x_time['time'].to_numpy()\n",
    "y_time_v = y_time['time'].to_numpy()\n",
    "temp_x = x.to_numpy()\n",
    "x_v = np.vstack((x_v, temp_x))\n",
    "y_v = y['class'].to_numpy()"
   ]
  },
  {
   "cell_type": "code",
   "execution_count": 29,
   "metadata": {},
   "outputs": [],
   "source": [
    "final_y_v = []\n",
    "x_cur = 0\n",
    "for i, y_time in enumerate(y_time_v):\n",
    "    while x_time_v[x_cur] < y_time:\n",
    "        x_cur += 1\n",
    "        final_y_v.append(y_v[i])\n",
    "final_y_v.append(y_v[-1])\n",
    "final_y_v.append(y_v[-1])"
   ]
  },
  {
   "cell_type": "code",
   "execution_count": 30,
   "metadata": {},
   "outputs": [],
   "source": [
    "Y_v = np.concatenate((Y_v, final_y_v))"
   ]
  },
  {
   "cell_type": "code",
   "execution_count": 31,
   "metadata": {},
   "outputs": [],
   "source": [
    "x_time = pd.read_csv('TrainingData/subject_002_02__x_time.csv', header=None)\n",
    "x_time.columns = ['time']\n",
    "x = pd.read_csv('TrainingData/subject_002_02__x.csv', header=None)\n",
    "y_time = pd.read_csv('TrainingData/subject_002_02__y_time.csv', header=None)\n",
    "y_time.columns = ['time']\n",
    "y = pd.read_csv('TrainingData/subject_002_02__y.csv', header=None)\n",
    "y.columns=['class']\n",
    "x_time_v = x_time['time'].to_numpy()\n",
    "y_time_v = y_time['time'].to_numpy()\n",
    "temp_x = x.to_numpy()\n",
    "x_v = np.vstack((x_v, temp_x))\n",
    "y_v = y['class'].to_numpy()"
   ]
  },
  {
   "cell_type": "code",
   "execution_count": 32,
   "metadata": {},
   "outputs": [],
   "source": [
    "final_y_v = []\n",
    "x_cur = 0\n",
    "for i, y_time in enumerate(y_time_v):\n",
    "    while x_time_v[x_cur] < y_time:\n",
    "        x_cur += 1\n",
    "        final_y_v.append(y_v[i])\n",
    "final_y_v.append(y_v[-1])\n",
    "final_y_v.append(y_v[-1])\n",
    "final_y_v.append(y_v[-1])\n",
    "final_y_v.append(y_v[-1])"
   ]
  },
  {
   "cell_type": "code",
   "execution_count": 33,
   "metadata": {},
   "outputs": [],
   "source": [
    "Y_v = np.concatenate((Y_v, final_y_v))"
   ]
  },
  {
   "cell_type": "code",
   "execution_count": 34,
   "metadata": {},
   "outputs": [],
   "source": [
    "x_time = pd.read_csv('TrainingData/subject_002_03__x_time.csv', header=None)\n",
    "x_time.columns = ['time']\n",
    "x = pd.read_csv('TrainingData/subject_002_03__x.csv', header=None)\n",
    "y_time = pd.read_csv('TrainingData/subject_002_03__y_time.csv', header=None)\n",
    "y_time.columns = ['time']\n",
    "y = pd.read_csv('TrainingData/subject_002_03__y.csv', header=None)\n",
    "y.columns=['class']\n",
    "x_time_v = x_time['time'].to_numpy()\n",
    "y_time_v = y_time['time'].to_numpy()\n",
    "temp_x = x.to_numpy()\n",
    "x_v = np.vstack((x_v, temp_x))\n",
    "y_v = y['class'].to_numpy()"
   ]
  },
  {
   "cell_type": "code",
   "execution_count": 35,
   "metadata": {},
   "outputs": [],
   "source": [
    "final_y_v = []\n",
    "x_cur = 0\n",
    "for i, y_time in enumerate(y_time_v):\n",
    "    while x_time_v[x_cur] < y_time:\n",
    "        x_cur += 1\n",
    "        final_y_v.append(y_v[i])\n",
    "final_y_v.append(y_v[-1])\n",
    "final_y_v.append(y_v[-1])\n",
    "final_y_v.append(y_v[-1])\n",
    "final_y_v.append(y_v[-1])"
   ]
  },
  {
   "cell_type": "code",
   "execution_count": 36,
   "metadata": {},
   "outputs": [],
   "source": [
    "Y_v = np.concatenate((Y_v, final_y_v))"
   ]
  },
  {
   "cell_type": "code",
   "execution_count": 37,
   "metadata": {},
   "outputs": [],
   "source": [
    "x_time = pd.read_csv('TrainingData/subject_002_04__x_time.csv', header=None)\n",
    "x_time.columns = ['time']\n",
    "x = pd.read_csv('TrainingData/subject_002_04__x.csv', header=None)\n",
    "y_time = pd.read_csv('TrainingData/subject_002_04__y_time.csv', header=None)\n",
    "y_time.columns = ['time']\n",
    "y = pd.read_csv('TrainingData/subject_002_04__y.csv', header=None)\n",
    "y.columns=['class']\n",
    "x_time_v = x_time['time'].to_numpy()\n",
    "y_time_v = y_time['time'].to_numpy()\n",
    "temp_x = x.to_numpy()\n",
    "x_v = np.vstack((x_v, temp_x))\n",
    "y_v = y['class'].to_numpy()"
   ]
  },
  {
   "cell_type": "code",
   "execution_count": 38,
   "metadata": {},
   "outputs": [],
   "source": [
    "final_y_v = []\n",
    "x_cur = 0\n",
    "for i, y_time in enumerate(y_time_v):\n",
    "    while x_time_v[x_cur] < y_time:\n",
    "        x_cur += 1\n",
    "        final_y_v.append(y_v[i])\n",
    "final_y_v.append(y_v[-1])\n",
    "final_y_v.append(y_v[-1])\n",
    "final_y_v.append(y_v[-1])\n",
    "final_y_v.append(y_v[-1])"
   ]
  },
  {
   "cell_type": "code",
   "execution_count": 39,
   "metadata": {},
   "outputs": [],
   "source": [
    "Y_v = np.concatenate((Y_v, final_y_v))"
   ]
  },
  {
   "cell_type": "code",
   "execution_count": 40,
   "metadata": {},
   "outputs": [],
   "source": [
    "x_time = pd.read_csv('TrainingData/subject_002_05__x_time.csv', header=None)\n",
    "x_time.columns = ['time']\n",
    "x = pd.read_csv('TrainingData/subject_002_05__x.csv', header=None)\n",
    "y_time = pd.read_csv('TrainingData/subject_002_05__y_time.csv', header=None)\n",
    "y_time.columns = ['time']\n",
    "y = pd.read_csv('TrainingData/subject_002_05__y.csv', header=None)\n",
    "y.columns=['class']\n",
    "x_time_v = x_time['time'].to_numpy()\n",
    "y_time_v = y_time['time'].to_numpy()\n",
    "temp_x = x.to_numpy()\n",
    "x_v = np.vstack((x_v, temp_x))\n",
    "y_v = y['class'].to_numpy()"
   ]
  },
  {
   "cell_type": "code",
   "execution_count": 41,
   "metadata": {},
   "outputs": [],
   "source": [
    "final_y_v = []\n",
    "x_cur = 0\n",
    "for i, y_time in enumerate(y_time_v):\n",
    "    while x_time_v[x_cur] < y_time:\n",
    "        x_cur += 1\n",
    "        final_y_v.append(y_v[i])\n",
    "final_y_v.append(y_v[-1])\n",
    "final_y_v.append(y_v[-1])"
   ]
  },
  {
   "cell_type": "code",
   "execution_count": 42,
   "metadata": {},
   "outputs": [],
   "source": [
    "Y_v = np.concatenate((Y_v, final_y_v))"
   ]
  },
  {
   "cell_type": "code",
   "execution_count": 43,
   "metadata": {},
   "outputs": [],
   "source": [
    "x_time = pd.read_csv('TrainingData/subject_003_01__x_time.csv', header=None)\n",
    "x_time.columns = ['time']\n",
    "x = pd.read_csv('TrainingData/subject_003_01__x.csv', header=None)\n",
    "y_time = pd.read_csv('TrainingData/subject_003_01__y_time.csv', header=None)\n",
    "y_time.columns = ['time']\n",
    "y = pd.read_csv('TrainingData/subject_003_01__y.csv', header=None)\n",
    "y.columns=['class']\n",
    "x_time_v = x_time['time'].to_numpy()\n",
    "y_time_v = y_time['time'].to_numpy()\n",
    "temp_x = x.to_numpy()\n",
    "x_v = np.vstack((x_v, temp_x))\n",
    "y_v = y['class'].to_numpy()"
   ]
  },
  {
   "cell_type": "code",
   "execution_count": 44,
   "metadata": {},
   "outputs": [],
   "source": [
    "final_y_v = []\n",
    "x_cur = 0\n",
    "for i, y_time in enumerate(y_time_v):\n",
    "    while x_time_v[x_cur] < y_time:\n",
    "        x_cur += 1\n",
    "        final_y_v.append(y_v[i])\n",
    "final_y_v.append(y_v[-1])\n",
    "final_y_v.append(y_v[-1])\n",
    "final_y_v.append(y_v[-1])\n",
    "final_y_v.append(y_v[-1])"
   ]
  },
  {
   "cell_type": "code",
   "execution_count": 45,
   "metadata": {},
   "outputs": [],
   "source": [
    "Y_v = np.concatenate((Y_v, final_y_v))"
   ]
  },
  {
   "cell_type": "code",
   "execution_count": 46,
   "metadata": {},
   "outputs": [],
   "source": [
    "x_time = pd.read_csv('TrainingData/subject_003_02__x_time.csv', header=None)\n",
    "x_time.columns = ['time']\n",
    "x = pd.read_csv('TrainingData/subject_003_02__x.csv', header=None)\n",
    "y_time = pd.read_csv('TrainingData/subject_003_02__y_time.csv', header=None)\n",
    "y_time.columns = ['time']\n",
    "y = pd.read_csv('TrainingData/subject_003_02__y.csv', header=None)\n",
    "y.columns=['class']\n",
    "x_time_v = x_time['time'].to_numpy()\n",
    "y_time_v = y_time['time'].to_numpy()\n",
    "temp_x = x.to_numpy()\n",
    "x_v = np.vstack((x_v, temp_x))\n",
    "y_v = y['class'].to_numpy()"
   ]
  },
  {
   "cell_type": "code",
   "execution_count": 47,
   "metadata": {},
   "outputs": [],
   "source": [
    "final_y_v = []\n",
    "x_cur = 0\n",
    "for i, y_time in enumerate(y_time_v):\n",
    "    while x_time_v[x_cur] < y_time:\n",
    "        x_cur += 1\n",
    "        final_y_v.append(y_v[i])\n",
    "final_y_v.append(y_v[-1])"
   ]
  },
  {
   "cell_type": "code",
   "execution_count": 48,
   "metadata": {},
   "outputs": [],
   "source": [
    "Y_v = np.concatenate((Y_v, final_y_v))"
   ]
  },
  {
   "cell_type": "code",
   "execution_count": 49,
   "metadata": {},
   "outputs": [],
   "source": [
    "x_time = pd.read_csv('TrainingData/subject_003_03__x_time.csv', header=None)\n",
    "x_time.columns = ['time']\n",
    "x = pd.read_csv('TrainingData/subject_003_03__x.csv', header=None)\n",
    "y_time = pd.read_csv('TrainingData/subject_003_03__y_time.csv', header=None)\n",
    "y_time.columns = ['time']\n",
    "y = pd.read_csv('TrainingData/subject_003_03__y.csv', header=None)\n",
    "y.columns=['class']\n",
    "x_time_v = x_time['time'].to_numpy()\n",
    "y_time_v = y_time['time'].to_numpy()\n",
    "temp_x = x.to_numpy()\n",
    "x_v = np.vstack((x_v, temp_x))\n",
    "y_v = y['class'].to_numpy()"
   ]
  },
  {
   "cell_type": "code",
   "execution_count": 50,
   "metadata": {},
   "outputs": [],
   "source": [
    "final_y_v = []\n",
    "x_cur = 0\n",
    "for i, y_time in enumerate(y_time_v):\n",
    "    while x_time_v[x_cur] < y_time:\n",
    "        x_cur += 1\n",
    "        final_y_v.append(y_v[i])\n",
    "final_y_v.append(y_v[-1])\n",
    "final_y_v.append(y_v[-1])\n",
    "final_y_v.append(y_v[-1])\n",
    "final_y_v.append(y_v[-1])"
   ]
  },
  {
   "cell_type": "code",
   "execution_count": 51,
   "metadata": {},
   "outputs": [],
   "source": [
    "Y_v = np.concatenate((Y_v, final_y_v))"
   ]
  },
  {
   "cell_type": "code",
   "execution_count": 52,
   "metadata": {},
   "outputs": [],
   "source": [
    "x_time = pd.read_csv('TrainingData/subject_004_01__x_time.csv', header=None)\n",
    "x_time.columns = ['time']\n",
    "x = pd.read_csv('TrainingData/subject_004_01__x.csv', header=None)\n",
    "y_time = pd.read_csv('TrainingData/subject_004_01__y_time.csv', header=None)\n",
    "y_time.columns = ['time']\n",
    "y = pd.read_csv('TrainingData/subject_004_01__y.csv', header=None)\n",
    "y.columns=['class']\n",
    "x_time_v = x_time['time'].to_numpy()\n",
    "y_time_v = y_time['time'].to_numpy()\n",
    "temp_x = x.to_numpy()\n",
    "x_v = np.vstack((x_v, temp_x))\n",
    "y_v = y['class'].to_numpy()"
   ]
  },
  {
   "cell_type": "code",
   "execution_count": 53,
   "metadata": {},
   "outputs": [],
   "source": [
    "final_y_v = []\n",
    "x_cur = 0\n",
    "for i, y_time in enumerate(y_time_v):\n",
    "    while x_time_v[x_cur] < y_time:\n",
    "        x_cur += 1\n",
    "        final_y_v.append(y_v[i])\n",
    "final_y_v.append(y_v[-1])\n",
    "final_y_v.append(y_v[-1])\n",
    "final_y_v.append(y_v[-1])\n",
    "final_y_v.append(y_v[-1])"
   ]
  },
  {
   "cell_type": "code",
   "execution_count": 54,
   "metadata": {},
   "outputs": [],
   "source": [
    "Y_v = np.concatenate((Y_v, final_y_v))"
   ]
  },
  {
   "cell_type": "code",
   "execution_count": 55,
   "metadata": {},
   "outputs": [],
   "source": [
    "x_time = pd.read_csv('TrainingData/subject_004_02__x_time.csv', header=None)\n",
    "x_time.columns = ['time']\n",
    "x = pd.read_csv('TrainingData/subject_004_02__x.csv', header=None)\n",
    "y_time = pd.read_csv('TrainingData/subject_004_02__y_time.csv', header=None)\n",
    "y_time.columns = ['time']\n",
    "y = pd.read_csv('TrainingData/subject_004_02__y.csv', header=None)\n",
    "y.columns=['class']\n",
    "x_time_v = x_time['time'].to_numpy()\n",
    "y_time_v = y_time['time'].to_numpy()\n",
    "temp_x = x.to_numpy()\n",
    "x_v = np.vstack((x_v, temp_x))\n",
    "y_v = y['class'].to_numpy()"
   ]
  },
  {
   "cell_type": "code",
   "execution_count": 56,
   "metadata": {},
   "outputs": [],
   "source": [
    "final_y_v = []\n",
    "x_cur = 0\n",
    "for i, y_time in enumerate(y_time_v):\n",
    "    while x_time_v[x_cur] < y_time:\n",
    "        x_cur += 1\n",
    "        final_y_v.append(y_v[i])\n",
    "final_y_v.append(y_v[-1])\n",
    "final_y_v.append(y_v[-1])\n",
    "final_y_v.append(y_v[-1])"
   ]
  },
  {
   "cell_type": "code",
   "execution_count": 57,
   "metadata": {},
   "outputs": [],
   "source": [
    "Y_v = np.concatenate((Y_v, final_y_v))"
   ]
  },
  {
   "cell_type": "code",
   "execution_count": 58,
   "metadata": {},
   "outputs": [],
   "source": [
    "x_time = pd.read_csv('TrainingData/subject_005_01__x_time.csv', header=None)\n",
    "x_time.columns = ['time']\n",
    "x = pd.read_csv('TrainingData/subject_005_01__x.csv', header=None)\n",
    "y_time = pd.read_csv('TrainingData/subject_005_01__y_time.csv', header=None)\n",
    "y_time.columns = ['time']\n",
    "y = pd.read_csv('TrainingData/subject_005_01__y.csv', header=None)\n",
    "y.columns=['class']\n",
    "x_time_v = x_time['time'].to_numpy()\n",
    "y_time_v = y_time['time'].to_numpy()\n",
    "temp_x = x.to_numpy()\n",
    "x_v = np.vstack((x_v, temp_x))\n",
    "y_v = y['class'].to_numpy()"
   ]
  },
  {
   "cell_type": "code",
   "execution_count": 59,
   "metadata": {},
   "outputs": [],
   "source": [
    "final_y_v = []\n",
    "x_cur = 0\n",
    "for i, y_time in enumerate(y_time_v):\n",
    "    while x_time_v[x_cur] < y_time:\n",
    "        x_cur += 1\n",
    "        final_y_v.append(y_v[i])\n",
    "final_y_v.append(y_v[-1])\n",
    "final_y_v.append(y_v[-1])"
   ]
  },
  {
   "cell_type": "code",
   "execution_count": 60,
   "metadata": {},
   "outputs": [],
   "source": [
    "Y_v = np.concatenate((Y_v, final_y_v))"
   ]
  },
  {
   "cell_type": "code",
   "execution_count": 61,
   "metadata": {},
   "outputs": [],
   "source": [
    "x_time = pd.read_csv('TrainingData/subject_005_02__x_time.csv', header=None)\n",
    "x_time.columns = ['time']\n",
    "x = pd.read_csv('TrainingData/subject_005_02__x.csv', header=None)\n",
    "y_time = pd.read_csv('TrainingData/subject_005_02__y_time.csv', header=None)\n",
    "y_time.columns = ['time']\n",
    "y = pd.read_csv('TrainingData/subject_005_02__y.csv', header=None)\n",
    "y.columns=['class']\n",
    "x_time_v = x_time['time'].to_numpy()\n",
    "y_time_v = y_time['time'].to_numpy()\n",
    "temp_x = x.to_numpy()\n",
    "x_v = np.vstack((x_v, temp_x))\n",
    "y_v = y['class'].to_numpy()"
   ]
  },
  {
   "cell_type": "code",
   "execution_count": 62,
   "metadata": {},
   "outputs": [],
   "source": [
    "final_y_v = []\n",
    "x_cur = 0\n",
    "for i, y_time in enumerate(y_time_v):\n",
    "    while x_time_v[x_cur] < y_time:\n",
    "        x_cur += 1\n",
    "        final_y_v.append(y_v[i])\n",
    "final_y_v.append(y_v[-1])\n",
    "final_y_v.append(y_v[-1])\n"
   ]
  },
  {
   "cell_type": "code",
   "execution_count": 63,
   "metadata": {},
   "outputs": [],
   "source": [
    "Y_v = np.concatenate((Y_v, final_y_v))"
   ]
  },
  {
   "cell_type": "code",
   "execution_count": 64,
   "metadata": {},
   "outputs": [],
   "source": [
    "x_time = pd.read_csv('TrainingData/subject_005_03__x_time.csv', header=None)\n",
    "x_time.columns = ['time']\n",
    "x = pd.read_csv('TrainingData/subject_005_03__x.csv', header=None)\n",
    "y_time = pd.read_csv('TrainingData/subject_005_03__y_time.csv', header=None)\n",
    "y_time.columns = ['time']\n",
    "y = pd.read_csv('TrainingData/subject_005_03__y.csv', header=None)\n",
    "y.columns=['class']\n",
    "x_time_v = x_time['time'].to_numpy()\n",
    "y_time_v = y_time['time'].to_numpy()\n",
    "temp_x = x.to_numpy()\n",
    "x_v = np.vstack((x_v, temp_x))\n",
    "y_v = y['class'].to_numpy()"
   ]
  },
  {
   "cell_type": "code",
   "execution_count": 65,
   "metadata": {},
   "outputs": [],
   "source": [
    "final_y_v = []\n",
    "x_cur = 0\n",
    "for i, y_time in enumerate(y_time_v):\n",
    "    while x_time_v[x_cur] < y_time:\n",
    "        x_cur += 1\n",
    "        final_y_v.append(y_v[i])\n",
    "final_y_v.append(y_v[-1])\n",
    "final_y_v.append(y_v[-1])\n",
    "final_y_v.append(y_v[-1])\n",
    "final_y_v.append(y_v[-1])"
   ]
  },
  {
   "cell_type": "code",
   "execution_count": 66,
   "metadata": {},
   "outputs": [],
   "source": [
    "Y_v = np.concatenate((Y_v, final_y_v))"
   ]
  },
  {
   "cell_type": "code",
   "execution_count": 67,
   "metadata": {},
   "outputs": [],
   "source": [
    "x_time = pd.read_csv('TrainingData/subject_006_01__x_time.csv', header=None)\n",
    "x_time.columns = ['time']\n",
    "x = pd.read_csv('TrainingData/subject_006_01__x.csv', header=None)\n",
    "y_time = pd.read_csv('TrainingData/subject_006_01__y_time.csv', header=None)\n",
    "y_time.columns = ['time']\n",
    "y = pd.read_csv('TrainingData/subject_006_01__y.csv', header=None)\n",
    "y.columns=['class']\n",
    "x_time_v = x_time['time'].to_numpy()\n",
    "y_time_v = y_time['time'].to_numpy()\n",
    "temp_x = x.to_numpy()\n",
    "x_v = np.vstack((x_v, temp_x))\n",
    "y_v = y['class'].to_numpy()"
   ]
  },
  {
   "cell_type": "code",
   "execution_count": 68,
   "metadata": {},
   "outputs": [],
   "source": [
    "final_y_v = []\n",
    "x_cur = 0\n",
    "for i, y_time in enumerate(y_time_v):\n",
    "    while x_time_v[x_cur] < y_time:\n",
    "        x_cur += 1\n",
    "        final_y_v.append(y_v[i])\n",
    "final_y_v.append(y_v[-1])\n",
    "final_y_v.append(y_v[-1])\n",
    "final_y_v.append(y_v[-1])\n",
    "final_y_v.append(y_v[-1])"
   ]
  },
  {
   "cell_type": "code",
   "execution_count": 69,
   "metadata": {},
   "outputs": [],
   "source": [
    "Y_v = np.concatenate((Y_v, final_y_v))"
   ]
  },
  {
   "cell_type": "code",
   "execution_count": 70,
   "metadata": {},
   "outputs": [],
   "source": [
    "x_time = pd.read_csv('TrainingData/subject_006_02__x_time.csv', header=None)\n",
    "x_time.columns = ['time']\n",
    "x = pd.read_csv('TrainingData/subject_006_02__x.csv', header=None)\n",
    "y_time = pd.read_csv('TrainingData/subject_006_02__y_time.csv', header=None)\n",
    "y_time.columns = ['time']\n",
    "y = pd.read_csv('TrainingData/subject_006_02__y.csv', header=None)\n",
    "y.columns=['class']\n",
    "x_time_v = x_time['time'].to_numpy()\n",
    "y_time_v = y_time['time'].to_numpy()\n",
    "temp_x = x.to_numpy()\n",
    "x_v = np.vstack((x_v, temp_x))\n",
    "y_v = y['class'].to_numpy()"
   ]
  },
  {
   "cell_type": "code",
   "execution_count": 71,
   "metadata": {},
   "outputs": [],
   "source": [
    "final_y_v = []\n",
    "x_cur = 0\n",
    "for i, y_time in enumerate(y_time_v):\n",
    "    while x_time_v[x_cur] < y_time:\n",
    "        x_cur += 1\n",
    "        final_y_v.append(y_v[i])\n",
    "final_y_v.append(y_v[-1])"
   ]
  },
  {
   "cell_type": "code",
   "execution_count": 72,
   "metadata": {},
   "outputs": [],
   "source": [
    "Y_v = np.concatenate((Y_v, final_y_v))"
   ]
  },
  {
   "cell_type": "code",
   "execution_count": 73,
   "metadata": {},
   "outputs": [],
   "source": [
    "x_time = pd.read_csv('TrainingData/subject_006_03__x_time.csv', header=None)\n",
    "x_time.columns = ['time']\n",
    "x = pd.read_csv('TrainingData/subject_006_03__x.csv', header=None)\n",
    "y_time = pd.read_csv('TrainingData/subject_006_03__y_time.csv', header=None)\n",
    "y_time.columns = ['time']\n",
    "y = pd.read_csv('TrainingData/subject_006_03__y.csv', header=None)\n",
    "y.columns=['class']\n",
    "x_time_v = x_time['time'].to_numpy()\n",
    "y_time_v = y_time['time'].to_numpy()\n",
    "temp_x = x.to_numpy()\n",
    "x_v = np.vstack((x_v, temp_x))\n",
    "y_v = y['class'].to_numpy()"
   ]
  },
  {
   "cell_type": "code",
   "execution_count": 74,
   "metadata": {},
   "outputs": [],
   "source": [
    "final_y_v = []\n",
    "x_cur = 0\n",
    "for i, y_time in enumerate(y_time_v):\n",
    "    while x_time_v[x_cur] < y_time:\n",
    "        x_cur += 1\n",
    "        final_y_v.append(y_v[i])\n",
    "final_y_v.append(y_v[-1])\n",
    "final_y_v.append(y_v[-1])\n",
    "final_y_v.append(y_v[-1])\n",
    "final_y_v.append(y_v[-1])"
   ]
  },
  {
   "cell_type": "code",
   "execution_count": 75,
   "metadata": {},
   "outputs": [],
   "source": [
    "Y_v = np.concatenate((Y_v, final_y_v))"
   ]
  },
  {
   "cell_type": "code",
   "execution_count": 76,
   "metadata": {},
   "outputs": [],
   "source": [
    "x_time = pd.read_csv('TrainingData/subject_007_01__x_time.csv', header=None)\n",
    "x_time.columns = ['time']\n",
    "x = pd.read_csv('TrainingData/subject_007_01__x.csv', header=None)\n",
    "y_time = pd.read_csv('TrainingData/subject_007_01__y_time.csv', header=None)\n",
    "y_time.columns = ['time']\n",
    "y = pd.read_csv('TrainingData/subject_007_01__y.csv', header=None)\n",
    "y.columns=['class']\n",
    "x_time_v = x_time['time'].to_numpy()\n",
    "y_time_v = y_time['time'].to_numpy()\n",
    "temp_x = x.to_numpy()\n",
    "x_v = np.vstack((x_v, temp_x))\n",
    "y_v = y['class'].to_numpy()"
   ]
  },
  {
   "cell_type": "code",
   "execution_count": 77,
   "metadata": {},
   "outputs": [],
   "source": [
    "final_y_v = []\n",
    "x_cur = 0\n",
    "for i, y_time in enumerate(y_time_v):\n",
    "    while x_time_v[x_cur] < y_time:\n",
    "        x_cur += 1\n",
    "        final_y_v.append(y_v[i])\n",
    "final_y_v.append(y_v[-1])\n",
    "final_y_v.append(y_v[-1])\n",
    "final_y_v.append(y_v[-1])\n",
    "final_y_v.append(y_v[-1])"
   ]
  },
  {
   "cell_type": "code",
   "execution_count": 78,
   "metadata": {},
   "outputs": [],
   "source": [
    "Y_v = np.concatenate((Y_v, final_y_v))"
   ]
  },
  {
   "cell_type": "code",
   "execution_count": 79,
   "metadata": {},
   "outputs": [],
   "source": [
    "x_time = pd.read_csv('TrainingData/subject_007_02__x_time.csv', header=None)\n",
    "x_time.columns = ['time']\n",
    "x = pd.read_csv('TrainingData/subject_007_02__x.csv', header=None)\n",
    "y_time = pd.read_csv('TrainingData/subject_007_02__y_time.csv', header=None)\n",
    "y_time.columns = ['time']\n",
    "y = pd.read_csv('TrainingData/subject_007_02__y.csv', header=None)\n",
    "y.columns=['class']\n",
    "x_time_v = x_time['time'].to_numpy()\n",
    "y_time_v = y_time['time'].to_numpy()\n",
    "temp_x = x.to_numpy()\n",
    "x_v = np.vstack((x_v, temp_x))\n",
    "y_v = y['class'].to_numpy()"
   ]
  },
  {
   "cell_type": "code",
   "execution_count": 80,
   "metadata": {},
   "outputs": [],
   "source": [
    "final_y_v = []\n",
    "x_cur = 0\n",
    "for i, y_time in enumerate(y_time_v):\n",
    "    while x_time_v[x_cur] < y_time:\n",
    "        x_cur += 1\n",
    "        final_y_v.append(y_v[i])\n",
    "final_y_v.append(y_v[-1])\n",
    "final_y_v.append(y_v[-1])\n",
    "final_y_v.append(y_v[-1])\n",
    "final_y_v.append(y_v[-1])"
   ]
  },
  {
   "cell_type": "code",
   "execution_count": 81,
   "metadata": {},
   "outputs": [],
   "source": [
    "Y_v = np.concatenate((Y_v, final_y_v))"
   ]
  },
  {
   "cell_type": "code",
   "execution_count": 82,
   "metadata": {},
   "outputs": [],
   "source": [
    "x_time = pd.read_csv('TrainingData/subject_007_03__x_time.csv', header=None)\n",
    "x_time.columns = ['time']\n",
    "x = pd.read_csv('TrainingData/subject_007_03__x.csv', header=None)\n",
    "y_time = pd.read_csv('TrainingData/subject_007_03__y_time.csv', header=None)\n",
    "y_time.columns = ['time']\n",
    "y = pd.read_csv('TrainingData/subject_007_03__y.csv', header=None)\n",
    "y.columns=['class']\n",
    "x_time_v = x_time['time'].to_numpy()\n",
    "y_time_v = y_time['time'].to_numpy()\n",
    "temp_x = x.to_numpy()\n",
    "x_v = np.vstack((x_v, temp_x))\n",
    "y_v = y['class'].to_numpy()"
   ]
  },
  {
   "cell_type": "code",
   "execution_count": 83,
   "metadata": {},
   "outputs": [],
   "source": [
    "final_y_v = []\n",
    "x_cur = 0\n",
    "for i, y_time in enumerate(y_time_v):\n",
    "    while x_time_v[x_cur] < y_time:\n",
    "        x_cur += 1\n",
    "        final_y_v.append(y_v[i])\n",
    "final_y_v.append(y_v[-1])\n",
    "final_y_v.append(y_v[-1])\n",
    "final_y_v.append(y_v[-1])\n",
    "final_y_v.append(y_v[-1])"
   ]
  },
  {
   "cell_type": "code",
   "execution_count": 84,
   "metadata": {},
   "outputs": [],
   "source": [
    "Y_v = np.concatenate((Y_v, final_y_v))"
   ]
  },
  {
   "cell_type": "code",
   "execution_count": 85,
   "metadata": {},
   "outputs": [],
   "source": [
    "x_time = pd.read_csv('TrainingData/subject_007_04__x_time.csv', header=None)\n",
    "x_time.columns = ['time']\n",
    "x = pd.read_csv('TrainingData/subject_007_04__x.csv', header=None)\n",
    "y_time = pd.read_csv('TrainingData/subject_007_04__y_time.csv', header=None)\n",
    "y_time.columns = ['time']\n",
    "y = pd.read_csv('TrainingData/subject_007_04__y.csv', header=None)\n",
    "y.columns=['class']\n",
    "x_time_v = x_time['time'].to_numpy()\n",
    "y_time_v = y_time['time'].to_numpy()\n",
    "temp_x = x.to_numpy()\n",
    "x_v = np.vstack((x_v, temp_x))\n",
    "y_v = y['class'].to_numpy()"
   ]
  },
  {
   "cell_type": "code",
   "execution_count": 86,
   "metadata": {},
   "outputs": [],
   "source": [
    "final_y_v = []\n",
    "x_cur = 0\n",
    "for i, y_time in enumerate(y_time_v):\n",
    "    while x_time_v[x_cur] < y_time:\n",
    "        x_cur += 1\n",
    "        final_y_v.append(y_v[i])\n",
    "final_y_v.append(y_v[-1])\n",
    "final_y_v.append(y_v[-1])"
   ]
  },
  {
   "cell_type": "code",
   "execution_count": 87,
   "metadata": {},
   "outputs": [],
   "source": [
    "Y_v = np.concatenate((Y_v, final_y_v))"
   ]
  },
  {
   "cell_type": "code",
   "execution_count": 88,
   "metadata": {},
   "outputs": [],
   "source": [
    "x_time = pd.read_csv('TrainingData/subject_008_01__x_time.csv', header=None)\n",
    "x_time.columns = ['time']\n",
    "x = pd.read_csv('TrainingData/subject_008_01__x.csv', header=None)\n",
    "y_time = pd.read_csv('TrainingData/subject_008_01__y_time.csv', header=None)\n",
    "y_time.columns = ['time']\n",
    "y = pd.read_csv('TrainingData/subject_008_01__y.csv', header=None)\n",
    "y.columns=['class']\n",
    "x_time_v = x_time['time'].to_numpy()\n",
    "y_time_v = y_time['time'].to_numpy()\n",
    "temp_x = x.to_numpy()\n",
    "x_v = np.vstack((x_v, temp_x))\n",
    "y_v = y['class'].to_numpy()"
   ]
  },
  {
   "cell_type": "code",
   "execution_count": 89,
   "metadata": {},
   "outputs": [],
   "source": [
    "final_y_v = []\n",
    "x_cur = 0\n",
    "for i, y_time in enumerate(y_time_v):\n",
    "    while x_time_v[x_cur] < y_time:\n",
    "        x_cur += 1\n",
    "        final_y_v.append(y_v[i])\n",
    "final_y_v.append(y_v[-1])"
   ]
  },
  {
   "cell_type": "code",
   "execution_count": 90,
   "metadata": {},
   "outputs": [],
   "source": [
    "Y_v = np.concatenate((Y_v, final_y_v))"
   ]
  },
  {
   "cell_type": "code",
   "execution_count": 91,
   "metadata": {},
   "outputs": [
    {
     "data": {
      "text/plain": [
       "1341646"
      ]
     },
     "execution_count": 91,
     "metadata": {},
     "output_type": "execute_result"
    }
   ],
   "source": [
    "len(x_v)"
   ]
  },
  {
   "cell_type": "code",
   "execution_count": 92,
   "metadata": {},
   "outputs": [
    {
     "data": {
      "text/plain": [
       "1341646"
      ]
     },
     "execution_count": 92,
     "metadata": {},
     "output_type": "execute_result"
    }
   ],
   "source": [
    "len(Y_v)"
   ]
  },
  {
   "cell_type": "code",
   "execution_count": 100,
   "metadata": {},
   "outputs": [
    {
     "data": {
      "text/plain": [
       "(1341646, 6)"
      ]
     },
     "execution_count": 100,
     "metadata": {},
     "output_type": "execute_result"
    }
   ],
   "source": [
    "x_v.shape"
   ]
  },
  {
   "cell_type": "code",
   "execution_count": 102,
   "metadata": {},
   "outputs": [],
   "source": [
    "Y_V_F = Y_v.reshape(1341646, 1)"
   ]
  },
  {
   "cell_type": "code",
   "execution_count": 103,
   "metadata": {},
   "outputs": [
    {
     "data": {
      "text/plain": [
       "(1341646, 1)"
      ]
     },
     "execution_count": 103,
     "metadata": {},
     "output_type": "execute_result"
    }
   ],
   "source": [
    "Y_V_F.shape"
   ]
  },
  {
   "cell_type": "code",
   "execution_count": 104,
   "metadata": {},
   "outputs": [],
   "source": [
    "processed_data = np.hstack((x_v, Y_V_F))"
   ]
  },
  {
   "cell_type": "code",
   "execution_count": null,
   "metadata": {},
   "outputs": [],
   "source": [
    "df = pd.DataFrame(processed_data, columns = ['m1','m2','m3','m4','m5','m6', 'y'])"
   ]
  }
 ],
 "metadata": {
  "kernelspec": {
   "display_name": "Python 3",
   "language": "python",
   "name": "python3"
  },
  "language_info": {
   "codemirror_mode": {
    "name": "ipython",
    "version": 3
   },
   "file_extension": ".py",
   "mimetype": "text/x-python",
   "name": "python",
   "nbconvert_exporter": "python",
   "pygments_lexer": "ipython3",
   "version": "3.7.3"
  }
 },
 "nbformat": 4,
 "nbformat_minor": 4
}
