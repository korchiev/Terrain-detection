{
 "cells": [
  {
   "cell_type": "code",
   "execution_count": 22,
   "metadata": {},
   "outputs": [],
   "source": [
    "import pandas as pd\n",
    "import numpy as np \n",
    "from collections import Counter\n",
    "from scipy import stats\n",
    "import os"
   ]
  },
  {
   "cell_type": "code",
   "execution_count": 23,
   "metadata": {},
   "outputs": [],
   "source": [
    "allfiles = os.listdir('TrainingData/')\n",
    "files = []\n",
    "\n",
    "for i in range(0,116, 4):\n",
    "    files.append([allfiles[i], allfiles[i+1],allfiles[i+2],allfiles[i+3]])\n",
    "\n",
    "   "
   ]
  },
  {
   "cell_type": "code",
   "execution_count": 24,
   "metadata": {},
   "outputs": [],
   "source": [
    "def generateflattened(directory, files):\n",
    "    for file in files:\n",
    "        processed_data = []\n",
    "        x = pd.read_csv(directory + file[0], header=None)\n",
    "        x_time = pd.read_csv(directory + file[1], header=None)\n",
    "        x_v = x.to_numpy()\n",
    "        y = pd.read_csv(directory + file[2], header=None)\n",
    "        y.columns=['class']\n",
    "        y_v = y['class'].to_numpy()        \n",
    "        y_time = pd.read_csv(directory + file[3], header=None)\n",
    "        data = np.hstack(((x_v[0],x_v[1], x_v[2], x_v[3],x_v[4],x_v[5],x_v[6], x_v[7], x_v[8],x_v[9],x_v[10],x_v[11], x_v[12], x_v[13],x_v[14],x_v[15],x_v[16], x_v[17], x_v[18],x_v[19],x_v[20],x_v[21], x_v[22], x_v[23],x_v[24],x_v[25],x_v[26], x_v[27], x_v[28],x_v[29],x_v[30], y_v[0])))\n",
    "        processed_data.append(data)\n",
    "        data = np.hstack(((x_v[0],x_v[1], x_v[2], x_v[3],x_v[4],x_v[5],x_v[6], x_v[7], x_v[8],x_v[9],x_v[10],x_v[11], x_v[12], x_v[13],x_v[14],x_v[15],x_v[16], x_v[17], x_v[18],x_v[19],x_v[20],x_v[21], x_v[22], x_v[23],x_v[24],x_v[25],x_v[26], x_v[27], x_v[28],x_v[29],x_v[30], y_v[1])))\n",
    "        processed_data.append(data)\n",
    "        data = np.hstack(((x_v[0],x_v[1], x_v[2], x_v[3],x_v[4],x_v[5],x_v[6], x_v[7], x_v[8],x_v[9],x_v[10],x_v[11], x_v[12], x_v[13],x_v[14],x_v[15],x_v[16], x_v[17], x_v[18],x_v[19],x_v[20],x_v[21], x_v[22], x_v[23],x_v[24],x_v[25],x_v[26], x_v[27], x_v[28],x_v[29],x_v[30], y_v[2])))\n",
    "        processed_data.append(data)\n",
    "        data = np.hstack(((x_v[0],x_v[1], x_v[2], x_v[3],x_v[4],x_v[5],x_v[6], x_v[7], x_v[8],x_v[9],x_v[10],x_v[11], x_v[12], x_v[13],x_v[14],x_v[15],x_v[16], x_v[17], x_v[18],x_v[19],x_v[20],x_v[21], x_v[22], x_v[23],x_v[24],x_v[25],x_v[26], x_v[27], x_v[28],x_v[29],x_v[30], y_v[3])))\n",
    "        processed_data.append(data)\n",
    "        for i, t in enumerate(y_v[4:-4]):\n",
    "            x_i = i*4\n",
    "            data = np.hstack((x_v[x_i-15],x_v[x_i-14],x_v[x_i-13],x_v[x_i-12],x_v[x_i-11],x_v[x_i-10],x_v[x_i-9],x_v[x_i-8],x_v[x_i-7],x_v[x_i-6],x_v[x_i-5],x_v[x_i-4],x_v[x_i-3],x_v[x_i-2],x_v[x_i-1], x_v[x_i], x_v[x_i+1],x_v[x_i+2],x_v[x_i+3],x_v[x_i+4],x_v[x_i+5],x_v[x_i+6],x_v[x_i+7],x_v[x_i+8],x_v[x_i+9],x_v[x_i+10], x_v[x_i+11],x_v[x_i+12],x_v[x_i+13],x_v[x_i+14],x_v[x_i+15], y_v[i]))\n",
    "            processed_data.append(data)\n",
    "        data = np.hstack(((x_v[len(x_v)-31],x_v[len(x_v)-30],x_v[len(x_v)-29], x_v[len(x_v)-28], x_v[len(x_v)-27],x_v[len(x_v)-26],x_v[len(x_v)-25],x_v[len(x_v)-24], x_v[len(x_v)-23], x_v[len(x_v)-22],x_v[len(x_v)-21],x_v[len(x_v)-20],x_v[len(x_v)-19], x_v[len(x_v)-18], x_v[len(x_v)-17],x_v[len(x_v)-16],x_v[len(x_v)-15],x_v[len(x_v)-14], x_v[len(x_v)-13], x_v[len(x_v)-12],x_v[len(x_v)-11],x_v[len(x_v)-10],x_v[len(x_v)-9], x_v[len(x_v)-8], x_v[len(x_v)-7],x_v[len(x_v)-6],x_v[len(x_v)-5],x_v[len(x_v)-4], x_v[len(x_v)-3], x_v[len(x_v)-2],x_v[len(x_v)-1], y_v[len(y_v)-4])))\n",
    "        processed_data.append(data)\n",
    "        data = np.hstack(((x_v[len(x_v)-31],x_v[len(x_v)-30],x_v[len(x_v)-29], x_v[len(x_v)-28], x_v[len(x_v)-27],x_v[len(x_v)-26],x_v[len(x_v)-25],x_v[len(x_v)-24], x_v[len(x_v)-23], x_v[len(x_v)-22],x_v[len(x_v)-21],x_v[len(x_v)-20],x_v[len(x_v)-19], x_v[len(x_v)-18], x_v[len(x_v)-17],x_v[len(x_v)-16],x_v[len(x_v)-15],x_v[len(x_v)-14], x_v[len(x_v)-13], x_v[len(x_v)-12],x_v[len(x_v)-11],x_v[len(x_v)-10],x_v[len(x_v)-9], x_v[len(x_v)-8], x_v[len(x_v)-7],x_v[len(x_v)-6],x_v[len(x_v)-5],x_v[len(x_v)-4], x_v[len(x_v)-3], x_v[len(x_v)-2],x_v[len(x_v)-1], y_v[len(y_v)-3])))\n",
    "        processed_data.append(data)\n",
    "        data = np.hstack(((x_v[len(x_v)-31],x_v[len(x_v)-30],x_v[len(x_v)-29], x_v[len(x_v)-28], x_v[len(x_v)-27],x_v[len(x_v)-26],x_v[len(x_v)-25],x_v[len(x_v)-24], x_v[len(x_v)-23], x_v[len(x_v)-22],x_v[len(x_v)-21],x_v[len(x_v)-20],x_v[len(x_v)-19], x_v[len(x_v)-18], x_v[len(x_v)-17],x_v[len(x_v)-16],x_v[len(x_v)-15],x_v[len(x_v)-14], x_v[len(x_v)-13], x_v[len(x_v)-12],x_v[len(x_v)-11],x_v[len(x_v)-10],x_v[len(x_v)-9], x_v[len(x_v)-8], x_v[len(x_v)-7],x_v[len(x_v)-6],x_v[len(x_v)-5],x_v[len(x_v)-4], x_v[len(x_v)-3], x_v[len(x_v)-2],x_v[len(x_v)-1], y_v[len(y_v)-2])))\n",
    "        processed_data.append(data)\n",
    "        data = np.hstack(((x_v[len(x_v)-31],x_v[len(x_v)-30],x_v[len(x_v)-29], x_v[len(x_v)-28], x_v[len(x_v)-27],x_v[len(x_v)-26],x_v[len(x_v)-25],x_v[len(x_v)-24], x_v[len(x_v)-23], x_v[len(x_v)-22],x_v[len(x_v)-21],x_v[len(x_v)-20],x_v[len(x_v)-19], x_v[len(x_v)-18], x_v[len(x_v)-17],x_v[len(x_v)-16],x_v[len(x_v)-15],x_v[len(x_v)-14], x_v[len(x_v)-13], x_v[len(x_v)-12],x_v[len(x_v)-11],x_v[len(x_v)-10],x_v[len(x_v)-9], x_v[len(x_v)-8], x_v[len(x_v)-7],x_v[len(x_v)-6],x_v[len(x_v)-5],x_v[len(x_v)-4], x_v[len(x_v)-3], x_v[len(x_v)-2],x_v[len(x_v)-1], y_v[len(y_v)-1])))\n",
    "        processed_data.append(data)\n",
    "\n",
    "        df = pd.DataFrame(processed_data)\n",
    "        df.to_csv('FinalDataWindow/' + file[2], index=False)      \n",
    "            \n"
   ]
  },
  {
   "cell_type": "code",
   "execution_count": 25,
   "metadata": {},
   "outputs": [],
   "source": [
    "generateflattened('TrainingData/',files)"
   ]
  },
  {
   "cell_type": "code",
   "execution_count": 26,
   "metadata": {},
   "outputs": [
    {
     "data": {
      "text/plain": [
       "['subject_009_01__x.csv',\n",
       " 'subject_009_01__x_time.csv',\n",
       " 'subject_009_01__y_time.csv',\n",
       " 'subject_010_01__x.csv',\n",
       " 'subject_010_01__x_time.csv',\n",
       " 'subject_010_01__y_time.csv',\n",
       " 'subject_011_01__x.csv',\n",
       " 'subject_011_01__x_time.csv',\n",
       " 'subject_011_01__y_time.csv',\n",
       " 'subject_012_01__x.csv',\n",
       " 'subject_012_01__x_time.csv',\n",
       " 'subject_012_01__y_time.csv']"
      ]
     },
     "execution_count": 26,
     "metadata": {},
     "output_type": "execute_result"
    }
   ],
   "source": [
    "os.listdir('TestData/')"
   ]
  },
  {
   "cell_type": "code",
   "execution_count": 27,
   "metadata": {},
   "outputs": [],
   "source": [
    "alltfiles = os.listdir('TestData/')\n",
    "tfiles = []\n",
    "\n",
    "for i in range(0,12, 3):\n",
    "    tfiles.append([alltfiles[i], alltfiles[i+1],alltfiles[i+2]])\n"
   ]
  },
  {
   "cell_type": "code",
   "execution_count": 28,
   "metadata": {},
   "outputs": [],
   "source": [
    "def generatetestflattened(directory, files):\n",
    "    for file in files:\n",
    "        processed_data = []\n",
    "        x = pd.read_csv(directory + file[0], header=None)\n",
    "        x_time = pd.read_csv(directory + file[1], header=None)\n",
    "        x_v = x.to_numpy()\n",
    "        y_time = pd.read_csv(directory + file[2], header=None)\n",
    "        y_time.columns=['class']\n",
    "        y_v = y_time['class'].to_numpy()        \n",
    "        \n",
    "        data = np.hstack(((x_v[0],x_v[1], x_v[2], x_v[3],x_v[4],x_v[5],x_v[6], x_v[7], x_v[8],x_v[9],x_v[10],x_v[11], x_v[12], x_v[13],x_v[14],x_v[15],x_v[16], x_v[17], x_v[18],x_v[19],x_v[20],x_v[21], x_v[22], x_v[23],x_v[24],x_v[25],x_v[26], x_v[27], x_v[28],x_v[29],x_v[30])))\n",
    "        processed_data.append(data)\n",
    "        data = np.hstack(((x_v[0],x_v[1], x_v[2], x_v[3],x_v[4],x_v[5],x_v[6], x_v[7], x_v[8],x_v[9],x_v[10],x_v[11], x_v[12], x_v[13],x_v[14],x_v[15],x_v[16], x_v[17], x_v[18],x_v[19],x_v[20],x_v[21], x_v[22], x_v[23],x_v[24],x_v[25],x_v[26], x_v[27], x_v[28],x_v[29],x_v[30])))\n",
    "        processed_data.append(data)\n",
    "        data = np.hstack(((x_v[0],x_v[1], x_v[2], x_v[3],x_v[4],x_v[5],x_v[6], x_v[7], x_v[8],x_v[9],x_v[10],x_v[11], x_v[12], x_v[13],x_v[14],x_v[15],x_v[16], x_v[17], x_v[18],x_v[19],x_v[20],x_v[21], x_v[22], x_v[23],x_v[24],x_v[25],x_v[26], x_v[27], x_v[28],x_v[29],x_v[30])))\n",
    "        processed_data.append(data)\n",
    "        data = np.hstack(((x_v[0],x_v[1], x_v[2], x_v[3],x_v[4],x_v[5],x_v[6], x_v[7], x_v[8],x_v[9],x_v[10],x_v[11], x_v[12], x_v[13],x_v[14],x_v[15],x_v[16], x_v[17], x_v[18],x_v[19],x_v[20],x_v[21], x_v[22], x_v[23],x_v[24],x_v[25],x_v[26], x_v[27], x_v[28],x_v[29],x_v[30])))\n",
    "        processed_data.append(data)\n",
    "        for i, t in enumerate(y_v[4:-4]):\n",
    "            x_i = i*4\n",
    "            data = np.hstack((x_v[x_i-15],x_v[x_i-14],x_v[x_i-13],x_v[x_i-12],x_v[x_i-11],x_v[x_i-10],x_v[x_i-9],x_v[x_i-8],x_v[x_i-7],x_v[x_i-6],x_v[x_i-5],x_v[x_i-4],x_v[x_i-3],x_v[x_i-2],x_v[x_i-1], x_v[x_i], x_v[x_i+1],x_v[x_i+2],x_v[x_i+3],x_v[x_i+4],x_v[x_i+5],x_v[x_i+6],x_v[x_i+7],x_v[x_i+8],x_v[x_i+9],x_v[x_i+10], x_v[x_i+11],x_v[x_i+12],x_v[x_i+13],x_v[x_i+14],x_v[x_i+15]))\n",
    "            processed_data.append(data)\n",
    "        data = np.hstack(((x_v[len(x_v)-31],x_v[len(x_v)-30],x_v[len(x_v)-29], x_v[len(x_v)-28], x_v[len(x_v)-27],x_v[len(x_v)-26],x_v[len(x_v)-25],x_v[len(x_v)-24], x_v[len(x_v)-23], x_v[len(x_v)-22],x_v[len(x_v)-21],x_v[len(x_v)-20],x_v[len(x_v)-19], x_v[len(x_v)-18], x_v[len(x_v)-17],x_v[len(x_v)-16],x_v[len(x_v)-15],x_v[len(x_v)-14], x_v[len(x_v)-13], x_v[len(x_v)-12],x_v[len(x_v)-11],x_v[len(x_v)-10],x_v[len(x_v)-9], x_v[len(x_v)-8], x_v[len(x_v)-7],x_v[len(x_v)-6],x_v[len(x_v)-5],x_v[len(x_v)-4], x_v[len(x_v)-3], x_v[len(x_v)-2],x_v[len(x_v)-1])))\n",
    "        processed_data.append(data)\n",
    "        data = np.hstack(((x_v[len(x_v)-31],x_v[len(x_v)-30],x_v[len(x_v)-29], x_v[len(x_v)-28], x_v[len(x_v)-27],x_v[len(x_v)-26],x_v[len(x_v)-25],x_v[len(x_v)-24], x_v[len(x_v)-23], x_v[len(x_v)-22],x_v[len(x_v)-21],x_v[len(x_v)-20],x_v[len(x_v)-19], x_v[len(x_v)-18], x_v[len(x_v)-17],x_v[len(x_v)-16],x_v[len(x_v)-15],x_v[len(x_v)-14], x_v[len(x_v)-13], x_v[len(x_v)-12],x_v[len(x_v)-11],x_v[len(x_v)-10],x_v[len(x_v)-9], x_v[len(x_v)-8], x_v[len(x_v)-7],x_v[len(x_v)-6],x_v[len(x_v)-5],x_v[len(x_v)-4], x_v[len(x_v)-3], x_v[len(x_v)-2],x_v[len(x_v)-1])))\n",
    "        processed_data.append(data)\n",
    "        data = np.hstack(((x_v[len(x_v)-31],x_v[len(x_v)-30],x_v[len(x_v)-29], x_v[len(x_v)-28], x_v[len(x_v)-27],x_v[len(x_v)-26],x_v[len(x_v)-25],x_v[len(x_v)-24], x_v[len(x_v)-23], x_v[len(x_v)-22],x_v[len(x_v)-21],x_v[len(x_v)-20],x_v[len(x_v)-19], x_v[len(x_v)-18], x_v[len(x_v)-17],x_v[len(x_v)-16],x_v[len(x_v)-15],x_v[len(x_v)-14], x_v[len(x_v)-13], x_v[len(x_v)-12],x_v[len(x_v)-11],x_v[len(x_v)-10],x_v[len(x_v)-9], x_v[len(x_v)-8], x_v[len(x_v)-7],x_v[len(x_v)-6],x_v[len(x_v)-5],x_v[len(x_v)-4], x_v[len(x_v)-3], x_v[len(x_v)-2],x_v[len(x_v)-1])))\n",
    "        processed_data.append(data)\n",
    "        data = np.hstack(((x_v[len(x_v)-31],x_v[len(x_v)-30],x_v[len(x_v)-29], x_v[len(x_v)-28], x_v[len(x_v)-27],x_v[len(x_v)-26],x_v[len(x_v)-25],x_v[len(x_v)-24], x_v[len(x_v)-23], x_v[len(x_v)-22],x_v[len(x_v)-21],x_v[len(x_v)-20],x_v[len(x_v)-19], x_v[len(x_v)-18], x_v[len(x_v)-17],x_v[len(x_v)-16],x_v[len(x_v)-15],x_v[len(x_v)-14], x_v[len(x_v)-13], x_v[len(x_v)-12],x_v[len(x_v)-11],x_v[len(x_v)-10],x_v[len(x_v)-9], x_v[len(x_v)-8], x_v[len(x_v)-7],x_v[len(x_v)-6],x_v[len(x_v)-5],x_v[len(x_v)-4], x_v[len(x_v)-3], x_v[len(x_v)-2],x_v[len(x_v)-1])))\n",
    "        processed_data.append(data)\n",
    "\n",
    "        df = pd.DataFrame(processed_data)\n",
    "        df.to_csv('FinalTestDataWindow/' + file[2], index=False) "
   ]
  },
  {
   "cell_type": "code",
   "execution_count": 29,
   "metadata": {},
   "outputs": [],
   "source": [
    "generatetestflattened('TestData/', tfiles)"
   ]
  },
  {
   "cell_type": "code",
   "execution_count": null,
   "metadata": {},
   "outputs": [],
   "source": []
  }
 ],
 "metadata": {
  "kernelspec": {
   "display_name": "Python 3",
   "language": "python",
   "name": "python3"
  },
  "language_info": {
   "codemirror_mode": {
    "name": "ipython",
    "version": 3
   },
   "file_extension": ".py",
   "mimetype": "text/x-python",
   "name": "python",
   "nbconvert_exporter": "python",
   "pygments_lexer": "ipython3",
   "version": "3.7.3"
  }
 },
 "nbformat": 4,
 "nbformat_minor": 4
}
