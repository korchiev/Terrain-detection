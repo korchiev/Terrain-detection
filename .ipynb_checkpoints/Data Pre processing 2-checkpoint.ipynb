{
 "cells": [
  {
   "cell_type": "code",
   "execution_count": 5,
   "metadata": {},
   "outputs": [],
   "source": [
    "import pandas as pd\n",
    "import numpy as np \n",
    "from collections import Counter\n",
    "from scipy import stats\n",
    "import os"
   ]
  },
  {
   "cell_type": "code",
   "execution_count": 6,
   "metadata": {},
   "outputs": [],
   "source": [
    "allfiles = os.listdir('TrainingData/')"
   ]
  },
  {
   "cell_type": "code",
   "execution_count": 12,
   "metadata": {},
   "outputs": [
    {
     "name": "stdout",
     "output_type": "stream",
     "text": [
      "0\n",
      "4\n",
      "8\n",
      "12\n",
      "16\n",
      "20\n",
      "24\n",
      "28\n",
      "32\n",
      "36\n",
      "40\n",
      "44\n",
      "48\n",
      "52\n",
      "56\n",
      "60\n",
      "64\n",
      "68\n",
      "72\n",
      "76\n",
      "80\n",
      "84\n",
      "88\n",
      "92\n",
      "96\n",
      "100\n",
      "104\n",
      "108\n",
      "112\n"
     ]
    }
   ],
   "source": [
    "for i in range(0,116, 4):\n",
    "    print(i)"
   ]
  },
  {
   "cell_type": "code",
   "execution_count": 2,
   "metadata": {},
   "outputs": [],
   "source": [
    "x_time = pd.read_csv('TrainingData/subject_001_01__x_time.csv', header=None)\n",
    "x_time.columns = ['time']\n",
    "x = pd.read_csv('TrainingData/subject_001_01__x.csv', header=None)\n",
    "y_time = pd.read_csv('TrainingData/subject_001_01__y_time.csv', header=None)\n",
    "y_time.columns = ['time']\n",
    "y = pd.read_csv('TrainingData/subject_001_01__y.csv', header=None)\n",
    "y.columns=['class']"
   ]
  },
  {
   "cell_type": "code",
   "execution_count": 3,
   "metadata": {},
   "outputs": [],
   "source": [
    "x_time_v = x_time['time'].to_numpy()\n",
    "y_time_v = y_time['time'].to_numpy()\n",
    "x_v = x.to_numpy()\n",
    "y_v = y['class'].to_numpy()"
   ]
  }
 ],
 "metadata": {
  "kernelspec": {
   "display_name": "Python 3",
   "language": "python",
   "name": "python3"
  },
  "language_info": {
   "codemirror_mode": {
    "name": "ipython",
    "version": 3
   },
   "file_extension": ".py",
   "mimetype": "text/x-python",
   "name": "python",
   "nbconvert_exporter": "python",
   "pygments_lexer": "ipython3",
   "version": "3.7.3"
  }
 },
 "nbformat": 4,
 "nbformat_minor": 4
}
