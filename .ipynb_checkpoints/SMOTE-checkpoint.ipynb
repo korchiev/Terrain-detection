{
 "cells": [
  {
   "cell_type": "code",
   "execution_count": 25,
   "metadata": {},
   "outputs": [],
   "source": [
    "import numpy as np\n",
    "import pandas as pd\n",
    "import os\n",
    "import matplotlib.pyplot as plt\n",
    "from collections import Counter\n",
    "\n",
    "from imblearn.over_sampling import SMOTE\n",
    "from imblearn.under_sampling import RandomUnderSampler\n",
    "from matplotlib import pyplot\n",
    "from numpy import where\n",
    "from sklearn.preprocessing import LabelEncoder\n",
    "\n",
    "from sklearn.model_selection import train_test_split\n",
    "from sklearn import datasets\n",
    "from sklearn import svm\n",
    "\n",
    "from sklearn.metrics import confusion_matrix, accuracy_score, f1_score \n",
    "from sklearn.naive_bayes import GaussianNB\n",
    "from sklearn.ensemble import RandomForestClassifier"
   ]
  },
  {
   "cell_type": "code",
   "execution_count": 28,
   "metadata": {},
   "outputs": [
    {
     "name": "stdout",
     "output_type": "stream",
     "text": [
      "Counter({0.0: 6442, 3.0: 1530, 2.0: 788, 1.0: 711})\n"
     ]
    }
   ],
   "source": [
    "df = pd.read_csv('FinalData/subject_001_01__y.csv')\n",
    "df.head\n",
    "y=df['y']\n",
    "X = df.iloc[:,:-1]\n",
    "#y=df.iloc[:,-1:]\n",
    "counter = Counter(y)\n",
    "print(counter)"
   ]
  },
  {
   "cell_type": "code",
   "execution_count": 30,
   "metadata": {},
   "outputs": [
    {
     "name": "stdout",
     "output_type": "stream",
     "text": [
      "Counter({0: 6442, 1: 6442, 2: 6442, 3: 6442})\n"
     ]
    },
    {
     "data": {
      "image/png": "[encoded data removed]",
      "text/plain": [
       "<Figure size 432x288 with 1 Axes>"
      ]
     },
     "metadata": {
      "needs_background": "light"
     },
     "output_type": "display_data"
    }
   ],
   "source": [
    "y = LabelEncoder().fit_transform(y)\n",
    "oversample = SMOTE(random_state = 101)\n",
    "X, y = oversample.fit_resample(X, y)\n",
    "under = RandomUnderSampler(random_state = 101)\n",
    "X, y = under.fit_resample(X, y)\n",
    "counter = Counter(y)\n",
    "print(counter)\n",
    "\n",
    "# plot the distribution\n",
    "pyplot.bar(counter.keys(), counter.values())\n",
    "pyplot.show()"
   ]
  },
  {
   "cell_type": "code",
   "execution_count": 31,
   "metadata": {},
   "outputs": [],
   "source": [
    "df1 = pd.DataFrame(X, columns = ['m1', 'm2', 'm3', 'm4', 'm5', 'm6', 'm11', 'm12', 'm13', 'm14', 'm15',\n",
    "       'm16', 'm21', 'm22', 'm23', 'm24', 'm25', 'm26', 'm31', 'm32', 'm33',\n",
    "       'm34', 'm35', 'm36'])"
   ]
  },
  {
   "cell_type": "code",
   "execution_count": 35,
   "metadata": {},
   "outputs": [],
   "source": [
    "df1['y'] = y"
   ]
  },
  {
   "cell_type": "code",
   "execution_count": 36,
   "metadata": {},
   "outputs": [
    {
     "data": {
      "text/html": [
       "<div>\n",
       "<style scoped>\n",
       "    .dataframe tbody tr th:only-of-type {\n",
       "        vertical-align: middle;\n",
       "    }\n",
       "\n",
       "    .dataframe tbody tr th {\n",
       "        vertical-align: top;\n",
       "    }\n",
       "\n",
       "    .dataframe thead th {\n",
       "        text-align: right;\n",
       "    }\n",
       "</style>\n",
       "<table border=\"1\" class=\"dataframe\">\n",
       "  <thead>\n",
       "    <tr style=\"text-align: right;\">\n",
       "      <th></th>\n",
       "      <th>m1</th>\n",
       "      <th>m2</th>\n",
       "      <th>m3</th>\n",
       "      <th>m4</th>\n",
       "      <th>m5</th>\n",
       "      <th>m6</th>\n",
       "      <th>m11</th>\n",
       "      <th>m12</th>\n",
       "      <th>m13</th>\n",
       "      <th>m14</th>\n",
       "      <th>...</th>\n",
       "      <th>m24</th>\n",
       "      <th>m25</th>\n",
       "      <th>m26</th>\n",
       "      <th>m31</th>\n",
       "      <th>m32</th>\n",
       "      <th>m33</th>\n",
       "      <th>m34</th>\n",
       "      <th>m35</th>\n",
       "      <th>m36</th>\n",
       "      <th>y</th>\n",
       "    </tr>\n",
       "  </thead>\n",
       "  <tbody>\n",
       "    <tr>\n",
       "      <td>0</td>\n",
       "      <td>4.435275</td>\n",
       "      <td>8.196063</td>\n",
       "      <td>2.974488</td>\n",
       "      <td>0.014215</td>\n",
       "      <td>-0.039157</td>\n",
       "      <td>-0.016744</td>\n",
       "      <td>4.186920</td>\n",
       "      <td>8.344455</td>\n",
       "      <td>2.908057</td>\n",
       "      <td>0.005771</td>\n",
       "      <td>...</td>\n",
       "      <td>0.007967</td>\n",
       "      <td>0.022412</td>\n",
       "      <td>0.001159</td>\n",
       "      <td>4.849308</td>\n",
       "      <td>8.411614</td>\n",
       "      <td>2.900692</td>\n",
       "      <td>0.027778</td>\n",
       "      <td>-0.010670</td>\n",
       "      <td>-0.014223</td>\n",
       "      <td>0</td>\n",
       "    </tr>\n",
       "    <tr>\n",
       "      <td>1</td>\n",
       "      <td>4.186920</td>\n",
       "      <td>8.344455</td>\n",
       "      <td>2.908057</td>\n",
       "      <td>0.005771</td>\n",
       "      <td>-0.004480</td>\n",
       "      <td>-0.003345</td>\n",
       "      <td>4.544637</td>\n",
       "      <td>8.408659</td>\n",
       "      <td>2.890000</td>\n",
       "      <td>0.007967</td>\n",
       "      <td>...</td>\n",
       "      <td>0.027778</td>\n",
       "      <td>-0.010670</td>\n",
       "      <td>-0.014223</td>\n",
       "      <td>4.509190</td>\n",
       "      <td>8.118649</td>\n",
       "      <td>2.847298</td>\n",
       "      <td>0.021577</td>\n",
       "      <td>-0.045498</td>\n",
       "      <td>-0.021111</td>\n",
       "      <td>0</td>\n",
       "    </tr>\n",
       "    <tr>\n",
       "      <td>2</td>\n",
       "      <td>4.544637</td>\n",
       "      <td>8.408659</td>\n",
       "      <td>2.890000</td>\n",
       "      <td>0.007967</td>\n",
       "      <td>0.022412</td>\n",
       "      <td>0.001159</td>\n",
       "      <td>4.849308</td>\n",
       "      <td>8.411614</td>\n",
       "      <td>2.900692</td>\n",
       "      <td>0.027778</td>\n",
       "      <td>...</td>\n",
       "      <td>0.021577</td>\n",
       "      <td>-0.045498</td>\n",
       "      <td>-0.021111</td>\n",
       "      <td>4.226515</td>\n",
       "      <td>8.273807</td>\n",
       "      <td>2.851742</td>\n",
       "      <td>0.012534</td>\n",
       "      <td>0.000445</td>\n",
       "      <td>-0.016830</td>\n",
       "      <td>0</td>\n",
       "    </tr>\n",
       "    <tr>\n",
       "      <td>3</td>\n",
       "      <td>4.849308</td>\n",
       "      <td>8.411614</td>\n",
       "      <td>2.900692</td>\n",
       "      <td>0.027778</td>\n",
       "      <td>-0.010670</td>\n",
       "      <td>-0.014223</td>\n",
       "      <td>4.509190</td>\n",
       "      <td>8.118649</td>\n",
       "      <td>2.847298</td>\n",
       "      <td>0.021577</td>\n",
       "      <td>...</td>\n",
       "      <td>0.012534</td>\n",
       "      <td>0.000445</td>\n",
       "      <td>-0.016830</td>\n",
       "      <td>4.532063</td>\n",
       "      <td>8.398341</td>\n",
       "      <td>2.856682</td>\n",
       "      <td>0.014484</td>\n",
       "      <td>0.028769</td>\n",
       "      <td>-0.011091</td>\n",
       "      <td>0</td>\n",
       "    </tr>\n",
       "    <tr>\n",
       "      <td>4</td>\n",
       "      <td>4.509190</td>\n",
       "      <td>8.118649</td>\n",
       "      <td>2.847298</td>\n",
       "      <td>0.021577</td>\n",
       "      <td>-0.045498</td>\n",
       "      <td>-0.021111</td>\n",
       "      <td>4.226515</td>\n",
       "      <td>8.273807</td>\n",
       "      <td>2.851742</td>\n",
       "      <td>0.012534</td>\n",
       "      <td>...</td>\n",
       "      <td>0.014484</td>\n",
       "      <td>0.028769</td>\n",
       "      <td>-0.011091</td>\n",
       "      <td>4.433669</td>\n",
       "      <td>8.294719</td>\n",
       "      <td>2.823521</td>\n",
       "      <td>0.016340</td>\n",
       "      <td>-0.029434</td>\n",
       "      <td>-0.008998</td>\n",
       "      <td>0</td>\n",
       "    </tr>\n",
       "  </tbody>\n",
       "</table>\n",
       "<p>5 rows × 25 columns</p>\n",
       "</div>"
      ],
      "text/plain": [
       "         m1        m2        m3        m4        m5        m6       m11  \\\n",
       "0  4.435275  8.196063  2.974488  0.014215 -0.039157 -0.016744  4.186920   \n",
       "1  4.186920  8.344455  2.908057  0.005771 -0.004480 -0.003345  4.544637   \n",
       "2  4.544637  8.408659  2.890000  0.007967  0.022412  0.001159  4.849308   \n",
       "3  4.849308  8.411614  2.900692  0.027778 -0.010670 -0.014223  4.509190   \n",
       "4  4.509190  8.118649  2.847298  0.021577 -0.045498 -0.021111  4.226515   \n",
       "\n",
       "        m12       m13       m14  ...       m24       m25       m26       m31  \\\n",
       "0  8.344455  2.908057  0.005771  ...  0.007967  0.022412  0.001159  4.849308   \n",
       "1  8.408659  2.890000  0.007967  ...  0.027778 -0.010670 -0.014223  4.509190   \n",
       "2  8.411614  2.900692  0.027778  ...  0.021577 -0.045498 -0.021111  4.226515   \n",
       "3  8.118649  2.847298  0.021577  ...  0.012534  0.000445 -0.016830  4.532063   \n",
       "4  8.273807  2.851742  0.012534  ...  0.014484  0.028769 -0.011091  4.433669   \n",
       "\n",
       "        m32       m33       m34       m35       m36  y  \n",
       "0  8.411614  2.900692  0.027778 -0.010670 -0.014223  0  \n",
       "1  8.118649  2.847298  0.021577 -0.045498 -0.021111  0  \n",
       "2  8.273807  2.851742  0.012534  0.000445 -0.016830  0  \n",
       "3  8.398341  2.856682  0.014484  0.028769 -0.011091  0  \n",
       "4  8.294719  2.823521  0.016340 -0.029434 -0.008998  0  \n",
       "\n",
       "[5 rows x 25 columns]"
      ]
     },
     "execution_count": 36,
     "metadata": {},
     "output_type": "execute_result"
    }
   ],
   "source": [
    "df1.head()"
   ]
  },
  {
   "cell_type": "code",
   "execution_count": 39,
   "metadata": {},
   "outputs": [],
   "source": [
    "counter = Counter(df1['y'])"
   ]
  },
  {
   "cell_type": "code",
   "execution_count": 40,
   "metadata": {},
   "outputs": [
    {
     "name": "stdout",
     "output_type": "stream",
     "text": [
      "Counter({0: 6442, 1: 6442, 2: 6442, 3: 6442})\n"
     ]
    }
   ],
   "source": [
    "print(counter)"
   ]
  },
  {
   "cell_type": "code",
   "execution_count": 41,
   "metadata": {},
   "outputs": [],
   "source": [
    "df1.to_csv('subject_001_01__y_balanced.csv')"
   ]
  },
  {
   "cell_type": "code",
   "execution_count": null,
   "metadata": {},
   "outputs": [],
   "source": []
  }
 ],
 "metadata": {
  "kernelspec": {
   "display_name": "Python 3",
   "language": "python",
   "name": "python3"
  },
  "language_info": {
   "codemirror_mode": {
    "name": "ipython",
    "version": 3
   },
   "file_extension": ".py",
   "mimetype": "text/x-python",
   "name": "python",
   "nbconvert_exporter": "python",
   "pygments_lexer": "ipython3",
   "version": "3.7.3"
  }
 },
 "nbformat": 4,
 "nbformat_minor": 2
}
